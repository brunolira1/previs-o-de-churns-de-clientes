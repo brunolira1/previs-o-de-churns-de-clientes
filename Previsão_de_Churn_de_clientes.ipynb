{
  "nbformat": 4,
  "nbformat_minor": 0,
  "metadata": {
    "colab": {
      "name": "Previsão de Churn de clientes",
      "provenance": [],
      "collapsed_sections": [
        "3GaLioUd2Qno"
      ],
      "include_colab_link": true
    },
    "kernelspec": {
      "display_name": "Python 3",
      "name": "python3"
    }
  },
  "cells": [
    {
      "cell_type": "markdown",
      "metadata": {
        "id": "view-in-github",
        "colab_type": "text"
      },
      "source": [
        "<a href=\"https://colab.research.google.com/github/brunolira1/previs-o-de-churns-de-clientes/blob/main/Previs%C3%A3o_de_Churn_de_clientes.ipynb\" target=\"_parent\"><img src=\"https://colab.research.google.com/assets/colab-badge.svg\" alt=\"Open In Colab\"/></a>"
      ]
    },
    {
      "cell_type": "markdown",
      "metadata": {
        "id": "ZTQCe6yQ19BH"
      },
      "source": [
        "#  Introdução"
      ]
    },
    {
      "cell_type": "markdown",
      "metadata": {
        "id": "uOMfyOObm7WW"
      },
      "source": [
        "Integrantes: Bruno Lira, Guilherme Moreira, Victor Couto\n",
        "\n",
        "Contexto de negócio: Um banco qualquer que tem acesso a vários dados de clientes nos quais podem ter suas contas ativas ou não (conta não ativa significa que o cliente churnou)\n",
        "\n",
        "Objetivo de negócio: por meio da análise dos dados e de métodos de machine learning, fazer uma separação, por meio das informações existentes, dos clientes que churnam e os que não churnam, para assim entender as características dos clientes que costumam churnar, e prever quais clientes novos são mais prováveis de cometer churns baseado em suas características para assim a empresa se antecipar e tentar de alguma forma evitar que esses churns ocorram."
      ]
    },
    {
      "cell_type": "code",
      "metadata": {
        "id": "PG_MJKwCm7Ju"
      },
      "source": [
        "import pandas as pd\n",
        "import numpy as np\n",
        "import matplotlib.pyplot as plt\n",
        "from sklearn.model_selection import train_test_split\n",
        "from sklearn.metrics import confusion_matrix\n",
        "from sklearn.metrics import accuracy_score\n",
        "from sklearn.metrics import f1_score\n",
        "from sklearn.metrics import precision_score\n",
        "from sklearn.metrics import recall_score\n",
        "import matplotlib.pyplot as plt\n",
        "import seaborn as sns"
      ],
      "execution_count": null,
      "outputs": []
    },
    {
      "cell_type": "code",
      "metadata": {
        "colab": {
          "base_uri": "https://localhost:8080/",
          "height": 617
        },
        "id": "TwgPYtm4sIOl",
        "outputId": "f5b73fb8-edb7-4094-896f-612fae601b27"
      },
      "source": [
        "df = pd.read_csv('BankChurners.csv')\n",
        "df = df.drop(columns=['CLIENTNUM','Naive_Bayes_Classifier_Attrition_Flag_Card_Category_Contacts_Count_12_mon_Dependent_count_Education_Level_Months_Inactive_12_mon_1', 'Naive_Bayes_Classifier_Attrition_Flag_Card_Category_Contacts_Count_12_mon_Dependent_count_Education_Level_Months_Inactive_12_mon_2'])\n",
        "df"
      ],
      "execution_count": null,
      "outputs": [
        {
          "output_type": "execute_result",
          "data": {
            "text/html": [
              "<div>\n",
              "<style scoped>\n",
              "    .dataframe tbody tr th:only-of-type {\n",
              "        vertical-align: middle;\n",
              "    }\n",
              "\n",
              "    .dataframe tbody tr th {\n",
              "        vertical-align: top;\n",
              "    }\n",
              "\n",
              "    .dataframe thead th {\n",
              "        text-align: right;\n",
              "    }\n",
              "</style>\n",
              "<table border=\"1\" class=\"dataframe\">\n",
              "  <thead>\n",
              "    <tr style=\"text-align: right;\">\n",
              "      <th></th>\n",
              "      <th>Attrition_Flag</th>\n",
              "      <th>Customer_Age</th>\n",
              "      <th>Gender</th>\n",
              "      <th>Dependent_count</th>\n",
              "      <th>Education_Level</th>\n",
              "      <th>Marital_Status</th>\n",
              "      <th>Income_Category</th>\n",
              "      <th>Card_Category</th>\n",
              "      <th>Months_on_book</th>\n",
              "      <th>Total_Relationship_Count</th>\n",
              "      <th>Months_Inactive_12_mon</th>\n",
              "      <th>Contacts_Count_12_mon</th>\n",
              "      <th>Credit_Limit</th>\n",
              "      <th>Total_Revolving_Bal</th>\n",
              "      <th>Avg_Open_To_Buy</th>\n",
              "      <th>Total_Amt_Chng_Q4_Q1</th>\n",
              "      <th>Total_Trans_Amt</th>\n",
              "      <th>Total_Trans_Ct</th>\n",
              "      <th>Total_Ct_Chng_Q4_Q1</th>\n",
              "      <th>Avg_Utilization_Ratio</th>\n",
              "    </tr>\n",
              "  </thead>\n",
              "  <tbody>\n",
              "    <tr>\n",
              "      <th>0</th>\n",
              "      <td>Existing Customer</td>\n",
              "      <td>45</td>\n",
              "      <td>M</td>\n",
              "      <td>3</td>\n",
              "      <td>High School</td>\n",
              "      <td>Married</td>\n",
              "      <td>$60K - $80K</td>\n",
              "      <td>Blue</td>\n",
              "      <td>39</td>\n",
              "      <td>5</td>\n",
              "      <td>1</td>\n",
              "      <td>3</td>\n",
              "      <td>12691.0</td>\n",
              "      <td>777</td>\n",
              "      <td>11914.0</td>\n",
              "      <td>1.335</td>\n",
              "      <td>1144</td>\n",
              "      <td>42</td>\n",
              "      <td>1.625</td>\n",
              "      <td>0.061</td>\n",
              "    </tr>\n",
              "    <tr>\n",
              "      <th>1</th>\n",
              "      <td>Existing Customer</td>\n",
              "      <td>49</td>\n",
              "      <td>F</td>\n",
              "      <td>5</td>\n",
              "      <td>Graduate</td>\n",
              "      <td>Single</td>\n",
              "      <td>Less than $40K</td>\n",
              "      <td>Blue</td>\n",
              "      <td>44</td>\n",
              "      <td>6</td>\n",
              "      <td>1</td>\n",
              "      <td>2</td>\n",
              "      <td>8256.0</td>\n",
              "      <td>864</td>\n",
              "      <td>7392.0</td>\n",
              "      <td>1.541</td>\n",
              "      <td>1291</td>\n",
              "      <td>33</td>\n",
              "      <td>3.714</td>\n",
              "      <td>0.105</td>\n",
              "    </tr>\n",
              "    <tr>\n",
              "      <th>2</th>\n",
              "      <td>Existing Customer</td>\n",
              "      <td>51</td>\n",
              "      <td>M</td>\n",
              "      <td>3</td>\n",
              "      <td>Graduate</td>\n",
              "      <td>Married</td>\n",
              "      <td>$80K - $120K</td>\n",
              "      <td>Blue</td>\n",
              "      <td>36</td>\n",
              "      <td>4</td>\n",
              "      <td>1</td>\n",
              "      <td>0</td>\n",
              "      <td>3418.0</td>\n",
              "      <td>0</td>\n",
              "      <td>3418.0</td>\n",
              "      <td>2.594</td>\n",
              "      <td>1887</td>\n",
              "      <td>20</td>\n",
              "      <td>2.333</td>\n",
              "      <td>0.000</td>\n",
              "    </tr>\n",
              "    <tr>\n",
              "      <th>3</th>\n",
              "      <td>Existing Customer</td>\n",
              "      <td>40</td>\n",
              "      <td>F</td>\n",
              "      <td>4</td>\n",
              "      <td>High School</td>\n",
              "      <td>Unknown</td>\n",
              "      <td>Less than $40K</td>\n",
              "      <td>Blue</td>\n",
              "      <td>34</td>\n",
              "      <td>3</td>\n",
              "      <td>4</td>\n",
              "      <td>1</td>\n",
              "      <td>3313.0</td>\n",
              "      <td>2517</td>\n",
              "      <td>796.0</td>\n",
              "      <td>1.405</td>\n",
              "      <td>1171</td>\n",
              "      <td>20</td>\n",
              "      <td>2.333</td>\n",
              "      <td>0.760</td>\n",
              "    </tr>\n",
              "    <tr>\n",
              "      <th>4</th>\n",
              "      <td>Existing Customer</td>\n",
              "      <td>40</td>\n",
              "      <td>M</td>\n",
              "      <td>3</td>\n",
              "      <td>Uneducated</td>\n",
              "      <td>Married</td>\n",
              "      <td>$60K - $80K</td>\n",
              "      <td>Blue</td>\n",
              "      <td>21</td>\n",
              "      <td>5</td>\n",
              "      <td>1</td>\n",
              "      <td>0</td>\n",
              "      <td>4716.0</td>\n",
              "      <td>0</td>\n",
              "      <td>4716.0</td>\n",
              "      <td>2.175</td>\n",
              "      <td>816</td>\n",
              "      <td>28</td>\n",
              "      <td>2.500</td>\n",
              "      <td>0.000</td>\n",
              "    </tr>\n",
              "    <tr>\n",
              "      <th>...</th>\n",
              "      <td>...</td>\n",
              "      <td>...</td>\n",
              "      <td>...</td>\n",
              "      <td>...</td>\n",
              "      <td>...</td>\n",
              "      <td>...</td>\n",
              "      <td>...</td>\n",
              "      <td>...</td>\n",
              "      <td>...</td>\n",
              "      <td>...</td>\n",
              "      <td>...</td>\n",
              "      <td>...</td>\n",
              "      <td>...</td>\n",
              "      <td>...</td>\n",
              "      <td>...</td>\n",
              "      <td>...</td>\n",
              "      <td>...</td>\n",
              "      <td>...</td>\n",
              "      <td>...</td>\n",
              "      <td>...</td>\n",
              "    </tr>\n",
              "    <tr>\n",
              "      <th>10122</th>\n",
              "      <td>Existing Customer</td>\n",
              "      <td>50</td>\n",
              "      <td>M</td>\n",
              "      <td>2</td>\n",
              "      <td>Graduate</td>\n",
              "      <td>Single</td>\n",
              "      <td>$40K - $60K</td>\n",
              "      <td>Blue</td>\n",
              "      <td>40</td>\n",
              "      <td>3</td>\n",
              "      <td>2</td>\n",
              "      <td>3</td>\n",
              "      <td>4003.0</td>\n",
              "      <td>1851</td>\n",
              "      <td>2152.0</td>\n",
              "      <td>0.703</td>\n",
              "      <td>15476</td>\n",
              "      <td>117</td>\n",
              "      <td>0.857</td>\n",
              "      <td>0.462</td>\n",
              "    </tr>\n",
              "    <tr>\n",
              "      <th>10123</th>\n",
              "      <td>Attrited Customer</td>\n",
              "      <td>41</td>\n",
              "      <td>M</td>\n",
              "      <td>2</td>\n",
              "      <td>Unknown</td>\n",
              "      <td>Divorced</td>\n",
              "      <td>$40K - $60K</td>\n",
              "      <td>Blue</td>\n",
              "      <td>25</td>\n",
              "      <td>4</td>\n",
              "      <td>2</td>\n",
              "      <td>3</td>\n",
              "      <td>4277.0</td>\n",
              "      <td>2186</td>\n",
              "      <td>2091.0</td>\n",
              "      <td>0.804</td>\n",
              "      <td>8764</td>\n",
              "      <td>69</td>\n",
              "      <td>0.683</td>\n",
              "      <td>0.511</td>\n",
              "    </tr>\n",
              "    <tr>\n",
              "      <th>10124</th>\n",
              "      <td>Attrited Customer</td>\n",
              "      <td>44</td>\n",
              "      <td>F</td>\n",
              "      <td>1</td>\n",
              "      <td>High School</td>\n",
              "      <td>Married</td>\n",
              "      <td>Less than $40K</td>\n",
              "      <td>Blue</td>\n",
              "      <td>36</td>\n",
              "      <td>5</td>\n",
              "      <td>3</td>\n",
              "      <td>4</td>\n",
              "      <td>5409.0</td>\n",
              "      <td>0</td>\n",
              "      <td>5409.0</td>\n",
              "      <td>0.819</td>\n",
              "      <td>10291</td>\n",
              "      <td>60</td>\n",
              "      <td>0.818</td>\n",
              "      <td>0.000</td>\n",
              "    </tr>\n",
              "    <tr>\n",
              "      <th>10125</th>\n",
              "      <td>Attrited Customer</td>\n",
              "      <td>30</td>\n",
              "      <td>M</td>\n",
              "      <td>2</td>\n",
              "      <td>Graduate</td>\n",
              "      <td>Unknown</td>\n",
              "      <td>$40K - $60K</td>\n",
              "      <td>Blue</td>\n",
              "      <td>36</td>\n",
              "      <td>4</td>\n",
              "      <td>3</td>\n",
              "      <td>3</td>\n",
              "      <td>5281.0</td>\n",
              "      <td>0</td>\n",
              "      <td>5281.0</td>\n",
              "      <td>0.535</td>\n",
              "      <td>8395</td>\n",
              "      <td>62</td>\n",
              "      <td>0.722</td>\n",
              "      <td>0.000</td>\n",
              "    </tr>\n",
              "    <tr>\n",
              "      <th>10126</th>\n",
              "      <td>Attrited Customer</td>\n",
              "      <td>43</td>\n",
              "      <td>F</td>\n",
              "      <td>2</td>\n",
              "      <td>Graduate</td>\n",
              "      <td>Married</td>\n",
              "      <td>Less than $40K</td>\n",
              "      <td>Silver</td>\n",
              "      <td>25</td>\n",
              "      <td>6</td>\n",
              "      <td>2</td>\n",
              "      <td>4</td>\n",
              "      <td>10388.0</td>\n",
              "      <td>1961</td>\n",
              "      <td>8427.0</td>\n",
              "      <td>0.703</td>\n",
              "      <td>10294</td>\n",
              "      <td>61</td>\n",
              "      <td>0.649</td>\n",
              "      <td>0.189</td>\n",
              "    </tr>\n",
              "  </tbody>\n",
              "</table>\n",
              "<p>10127 rows × 20 columns</p>\n",
              "</div>"
            ],
            "text/plain": [
              "          Attrition_Flag  ...  Avg_Utilization_Ratio\n",
              "0      Existing Customer  ...                  0.061\n",
              "1      Existing Customer  ...                  0.105\n",
              "2      Existing Customer  ...                  0.000\n",
              "3      Existing Customer  ...                  0.760\n",
              "4      Existing Customer  ...                  0.000\n",
              "...                  ...  ...                    ...\n",
              "10122  Existing Customer  ...                  0.462\n",
              "10123  Attrited Customer  ...                  0.511\n",
              "10124  Attrited Customer  ...                  0.000\n",
              "10125  Attrited Customer  ...                  0.000\n",
              "10126  Attrited Customer  ...                  0.189\n",
              "\n",
              "[10127 rows x 20 columns]"
            ]
          },
          "metadata": {},
          "execution_count": 8
        }
      ]
    },
    {
      "cell_type": "code",
      "metadata": {
        "colab": {
          "base_uri": "https://localhost:8080/"
        },
        "id": "_iQmEdmAffCb",
        "outputId": "f83ce8c2-186c-4db3-e85c-07c093aadcb5"
      },
      "source": [
        "df.columns"
      ],
      "execution_count": null,
      "outputs": [
        {
          "output_type": "execute_result",
          "data": {
            "text/plain": [
              "Index(['Attrition_Flag', 'Customer_Age', 'Gender', 'Dependent_count',\n",
              "       'Education_Level', 'Marital_Status', 'Income_Category', 'Card_Category',\n",
              "       'Months_on_book', 'Total_Relationship_Count', 'Months_Inactive_12_mon',\n",
              "       'Contacts_Count_12_mon', 'Credit_Limit', 'Total_Revolving_Bal',\n",
              "       'Avg_Open_To_Buy', 'Total_Amt_Chng_Q4_Q1', 'Total_Trans_Amt',\n",
              "       'Total_Trans_Ct', 'Total_Ct_Chng_Q4_Q1', 'Avg_Utilization_Ratio'],\n",
              "      dtype='object')"
            ]
          },
          "metadata": {},
          "execution_count": 34
        }
      ]
    },
    {
      "cell_type": "code",
      "metadata": {
        "colab": {
          "base_uri": "https://localhost:8080/"
        },
        "id": "e1ZSOIXqzSLH",
        "outputId": "e91bb06e-ea3f-4122-88dd-b8eafe006162"
      },
      "source": [
        "df.info()"
      ],
      "execution_count": null,
      "outputs": [
        {
          "output_type": "stream",
          "name": "stdout",
          "text": [
            "<class 'pandas.core.frame.DataFrame'>\n",
            "RangeIndex: 10127 entries, 0 to 10126\n",
            "Data columns (total 20 columns):\n",
            " #   Column                    Non-Null Count  Dtype  \n",
            "---  ------                    --------------  -----  \n",
            " 0   Attrition_Flag            10127 non-null  object \n",
            " 1   Customer_Age              10127 non-null  int64  \n",
            " 2   Gender                    10127 non-null  object \n",
            " 3   Dependent_count           10127 non-null  int64  \n",
            " 4   Education_Level           10127 non-null  object \n",
            " 5   Marital_Status            10127 non-null  object \n",
            " 6   Income_Category           10127 non-null  object \n",
            " 7   Card_Category             10127 non-null  object \n",
            " 8   Months_on_book            10127 non-null  int64  \n",
            " 9   Total_Relationship_Count  10127 non-null  int64  \n",
            " 10  Months_Inactive_12_mon    10127 non-null  int64  \n",
            " 11  Contacts_Count_12_mon     10127 non-null  int64  \n",
            " 12  Credit_Limit              10127 non-null  float64\n",
            " 13  Total_Revolving_Bal       10127 non-null  int64  \n",
            " 14  Avg_Open_To_Buy           10127 non-null  float64\n",
            " 15  Total_Amt_Chng_Q4_Q1      10127 non-null  float64\n",
            " 16  Total_Trans_Amt           10127 non-null  int64  \n",
            " 17  Total_Trans_Ct            10127 non-null  int64  \n",
            " 18  Total_Ct_Chng_Q4_Q1       10127 non-null  float64\n",
            " 19  Avg_Utilization_Ratio     10127 non-null  float64\n",
            "dtypes: float64(5), int64(9), object(6)\n",
            "memory usage: 1.5+ MB\n"
          ]
        }
      ]
    },
    {
      "cell_type": "markdown",
      "metadata": {
        "id": "3GaLioUd2Qno"
      },
      "source": [
        "## Análise de Dados"
      ]
    },
    {
      "cell_type": "code",
      "metadata": {
        "colab": {
          "base_uri": "https://localhost:8080/",
          "height": 198
        },
        "id": "8K0HPYOjjg-E",
        "outputId": "085579bb-5d88-4f2e-d57f-319de49de396"
      },
      "source": [
        "df.groupby(by='Attrition_Flag').mean()"
      ],
      "execution_count": null,
      "outputs": [
        {
          "output_type": "execute_result",
          "data": {
            "text/html": [
              "<div>\n",
              "<style scoped>\n",
              "    .dataframe tbody tr th:only-of-type {\n",
              "        vertical-align: middle;\n",
              "    }\n",
              "\n",
              "    .dataframe tbody tr th {\n",
              "        vertical-align: top;\n",
              "    }\n",
              "\n",
              "    .dataframe thead th {\n",
              "        text-align: right;\n",
              "    }\n",
              "</style>\n",
              "<table border=\"1\" class=\"dataframe\">\n",
              "  <thead>\n",
              "    <tr style=\"text-align: right;\">\n",
              "      <th></th>\n",
              "      <th>Customer_Age</th>\n",
              "      <th>Dependent_count</th>\n",
              "      <th>Months_on_book</th>\n",
              "      <th>Total_Relationship_Count</th>\n",
              "      <th>Months_Inactive_12_mon</th>\n",
              "      <th>Contacts_Count_12_mon</th>\n",
              "      <th>Credit_Limit</th>\n",
              "      <th>Total_Revolving_Bal</th>\n",
              "      <th>Avg_Open_To_Buy</th>\n",
              "      <th>Total_Amt_Chng_Q4_Q1</th>\n",
              "      <th>Total_Trans_Amt</th>\n",
              "      <th>Total_Trans_Ct</th>\n",
              "      <th>Total_Ct_Chng_Q4_Q1</th>\n",
              "      <th>Avg_Utilization_Ratio</th>\n",
              "    </tr>\n",
              "    <tr>\n",
              "      <th>Attrition_Flag</th>\n",
              "      <th></th>\n",
              "      <th></th>\n",
              "      <th></th>\n",
              "      <th></th>\n",
              "      <th></th>\n",
              "      <th></th>\n",
              "      <th></th>\n",
              "      <th></th>\n",
              "      <th></th>\n",
              "      <th></th>\n",
              "      <th></th>\n",
              "      <th></th>\n",
              "      <th></th>\n",
              "      <th></th>\n",
              "    </tr>\n",
              "  </thead>\n",
              "  <tbody>\n",
              "    <tr>\n",
              "      <th>Attrited Customer</th>\n",
              "      <td>46.659496</td>\n",
              "      <td>2.402581</td>\n",
              "      <td>36.178242</td>\n",
              "      <td>3.279656</td>\n",
              "      <td>2.693301</td>\n",
              "      <td>2.972342</td>\n",
              "      <td>8136.039459</td>\n",
              "      <td>672.822987</td>\n",
              "      <td>7463.216472</td>\n",
              "      <td>0.694277</td>\n",
              "      <td>3095.025814</td>\n",
              "      <td>44.933620</td>\n",
              "      <td>0.554386</td>\n",
              "      <td>0.162475</td>\n",
              "    </tr>\n",
              "    <tr>\n",
              "      <th>Existing Customer</th>\n",
              "      <td>46.262118</td>\n",
              "      <td>2.335412</td>\n",
              "      <td>35.880588</td>\n",
              "      <td>3.914588</td>\n",
              "      <td>2.273765</td>\n",
              "      <td>2.356353</td>\n",
              "      <td>8726.877518</td>\n",
              "      <td>1256.604118</td>\n",
              "      <td>7470.273400</td>\n",
              "      <td>0.772510</td>\n",
              "      <td>4654.655882</td>\n",
              "      <td>68.672588</td>\n",
              "      <td>0.742434</td>\n",
              "      <td>0.296412</td>\n",
              "    </tr>\n",
              "  </tbody>\n",
              "</table>\n",
              "</div>"
            ],
            "text/plain": [
              "                   Customer_Age  ...  Avg_Utilization_Ratio\n",
              "Attrition_Flag                   ...                       \n",
              "Attrited Customer     46.659496  ...               0.162475\n",
              "Existing Customer     46.262118  ...               0.296412\n",
              "\n",
              "[2 rows x 14 columns]"
            ]
          },
          "metadata": {},
          "execution_count": 7
        }
      ]
    },
    {
      "cell_type": "code",
      "metadata": {
        "colab": {
          "base_uri": "https://localhost:8080/",
          "height": 665
        },
        "id": "hqtzJbT8lGCN",
        "outputId": "2bccf380-6202-4566-ddaa-11d25aa15b69"
      },
      "source": [
        "df.groupby(['Attrition_Flag', 'Gender', 'Income_Category']).mean()"
      ],
      "execution_count": null,
      "outputs": [
        {
          "output_type": "execute_result",
          "data": {
            "text/html": [
              "<div>\n",
              "<style scoped>\n",
              "    .dataframe tbody tr th:only-of-type {\n",
              "        vertical-align: middle;\n",
              "    }\n",
              "\n",
              "    .dataframe tbody tr th {\n",
              "        vertical-align: top;\n",
              "    }\n",
              "\n",
              "    .dataframe thead th {\n",
              "        text-align: right;\n",
              "    }\n",
              "</style>\n",
              "<table border=\"1\" class=\"dataframe\">\n",
              "  <thead>\n",
              "    <tr style=\"text-align: right;\">\n",
              "      <th></th>\n",
              "      <th></th>\n",
              "      <th></th>\n",
              "      <th>Customer_Age</th>\n",
              "      <th>Dependent_count</th>\n",
              "      <th>Months_on_book</th>\n",
              "      <th>Total_Relationship_Count</th>\n",
              "      <th>Months_Inactive_12_mon</th>\n",
              "      <th>Contacts_Count_12_mon</th>\n",
              "      <th>Credit_Limit</th>\n",
              "      <th>Total_Revolving_Bal</th>\n",
              "      <th>Avg_Open_To_Buy</th>\n",
              "      <th>Total_Amt_Chng_Q4_Q1</th>\n",
              "      <th>Total_Trans_Amt</th>\n",
              "      <th>Total_Trans_Ct</th>\n",
              "      <th>Total_Ct_Chng_Q4_Q1</th>\n",
              "      <th>Avg_Utilization_Ratio</th>\n",
              "    </tr>\n",
              "    <tr>\n",
              "      <th>Attrition_Flag</th>\n",
              "      <th>Gender</th>\n",
              "      <th>Income_Category</th>\n",
              "      <th></th>\n",
              "      <th></th>\n",
              "      <th></th>\n",
              "      <th></th>\n",
              "      <th></th>\n",
              "      <th></th>\n",
              "      <th></th>\n",
              "      <th></th>\n",
              "      <th></th>\n",
              "      <th></th>\n",
              "      <th></th>\n",
              "      <th></th>\n",
              "      <th></th>\n",
              "      <th></th>\n",
              "    </tr>\n",
              "  </thead>\n",
              "  <tbody>\n",
              "    <tr>\n",
              "      <th rowspan=\"9\" valign=\"top\">Attrited Customer</th>\n",
              "      <th rowspan=\"3\" valign=\"top\">F</th>\n",
              "      <th>$40K - $60K</th>\n",
              "      <td>46.355422</td>\n",
              "      <td>2.457831</td>\n",
              "      <td>36.018072</td>\n",
              "      <td>3.283133</td>\n",
              "      <td>2.722892</td>\n",
              "      <td>3.036145</td>\n",
              "      <td>4201.940361</td>\n",
              "      <td>616.174699</td>\n",
              "      <td>3585.765663</td>\n",
              "      <td>0.660349</td>\n",
              "      <td>2584.506024</td>\n",
              "      <td>43.319277</td>\n",
              "      <td>0.527205</td>\n",
              "      <td>0.196000</td>\n",
              "    </tr>\n",
              "    <tr>\n",
              "      <th>Less than $40K</th>\n",
              "      <td>46.503436</td>\n",
              "      <td>2.355670</td>\n",
              "      <td>36.068729</td>\n",
              "      <td>3.479381</td>\n",
              "      <td>2.670103</td>\n",
              "      <td>2.855670</td>\n",
              "      <td>3409.289863</td>\n",
              "      <td>673.582474</td>\n",
              "      <td>2735.707388</td>\n",
              "      <td>0.685595</td>\n",
              "      <td>2831.431271</td>\n",
              "      <td>44.238832</td>\n",
              "      <td>0.542062</td>\n",
              "      <td>0.222876</td>\n",
              "    </tr>\n",
              "    <tr>\n",
              "      <th>Unknown</th>\n",
              "      <td>47.252747</td>\n",
              "      <td>2.351648</td>\n",
              "      <td>36.538462</td>\n",
              "      <td>3.247253</td>\n",
              "      <td>2.719780</td>\n",
              "      <td>3.098901</td>\n",
              "      <td>8338.922527</td>\n",
              "      <td>693.368132</td>\n",
              "      <td>7645.554396</td>\n",
              "      <td>0.699665</td>\n",
              "      <td>2815.219780</td>\n",
              "      <td>44.120879</td>\n",
              "      <td>0.524027</td>\n",
              "      <td>0.154495</td>\n",
              "    </tr>\n",
              "    <tr>\n",
              "      <th rowspan=\"6\" valign=\"top\">M</th>\n",
              "      <th>$120K +</th>\n",
              "      <td>47.873016</td>\n",
              "      <td>2.428571</td>\n",
              "      <td>36.849206</td>\n",
              "      <td>3.246032</td>\n",
              "      <td>2.746032</td>\n",
              "      <td>2.960317</td>\n",
              "      <td>19734.380952</td>\n",
              "      <td>677.833333</td>\n",
              "      <td>19056.547619</td>\n",
              "      <td>0.703619</td>\n",
              "      <td>3393.071429</td>\n",
              "      <td>45.650794</td>\n",
              "      <td>0.557754</td>\n",
              "      <td>0.064532</td>\n",
              "    </tr>\n",
              "    <tr>\n",
              "      <th>$40K - $60K</th>\n",
              "      <td>45.390476</td>\n",
              "      <td>2.409524</td>\n",
              "      <td>35.390476</td>\n",
              "      <td>3.171429</td>\n",
              "      <td>2.619048</td>\n",
              "      <td>3.200000</td>\n",
              "      <td>6390.223810</td>\n",
              "      <td>664.104762</td>\n",
              "      <td>5726.119048</td>\n",
              "      <td>0.704371</td>\n",
              "      <td>3638.104762</td>\n",
              "      <td>46.657143</td>\n",
              "      <td>0.609819</td>\n",
              "      <td>0.139181</td>\n",
              "    </tr>\n",
              "    <tr>\n",
              "      <th>$60K - $80K</th>\n",
              "      <td>46.301587</td>\n",
              "      <td>2.449735</td>\n",
              "      <td>36.074074</td>\n",
              "      <td>3.243386</td>\n",
              "      <td>2.693122</td>\n",
              "      <td>3.000000</td>\n",
              "      <td>10491.971958</td>\n",
              "      <td>569.201058</td>\n",
              "      <td>9922.770899</td>\n",
              "      <td>0.705540</td>\n",
              "      <td>3246.380952</td>\n",
              "      <td>44.835979</td>\n",
              "      <td>0.575688</td>\n",
              "      <td>0.086090</td>\n",
              "    </tr>\n",
              "    <tr>\n",
              "      <th>$80K - $120K</th>\n",
              "      <td>47.033058</td>\n",
              "      <td>2.586777</td>\n",
              "      <td>36.322314</td>\n",
              "      <td>2.913223</td>\n",
              "      <td>2.698347</td>\n",
              "      <td>2.962810</td>\n",
              "      <td>15296.733058</td>\n",
              "      <td>758.619835</td>\n",
              "      <td>14538.113223</td>\n",
              "      <td>0.712215</td>\n",
              "      <td>3740.615702</td>\n",
              "      <td>47.471074</td>\n",
              "      <td>0.578798</td>\n",
              "      <td>0.111640</td>\n",
              "    </tr>\n",
              "    <tr>\n",
              "      <th>Less than $40K</th>\n",
              "      <td>44.966667</td>\n",
              "      <td>1.600000</td>\n",
              "      <td>35.466667</td>\n",
              "      <td>3.266667</td>\n",
              "      <td>2.833333</td>\n",
              "      <td>3.300000</td>\n",
              "      <td>4919.230000</td>\n",
              "      <td>929.233333</td>\n",
              "      <td>3989.996667</td>\n",
              "      <td>0.709633</td>\n",
              "      <td>3521.200000</td>\n",
              "      <td>43.366667</td>\n",
              "      <td>0.563567</td>\n",
              "      <td>0.264867</td>\n",
              "    </tr>\n",
              "    <tr>\n",
              "      <th>Unknown</th>\n",
              "      <td>55.000000</td>\n",
              "      <td>1.200000</td>\n",
              "      <td>42.000000</td>\n",
              "      <td>3.400000</td>\n",
              "      <td>2.600000</td>\n",
              "      <td>2.800000</td>\n",
              "      <td>9609.800000</td>\n",
              "      <td>0.000000</td>\n",
              "      <td>9609.800000</td>\n",
              "      <td>0.801600</td>\n",
              "      <td>2471.400000</td>\n",
              "      <td>45.000000</td>\n",
              "      <td>0.705600</td>\n",
              "      <td>0.000000</td>\n",
              "    </tr>\n",
              "    <tr>\n",
              "      <th rowspan=\"9\" valign=\"top\">Existing Customer</th>\n",
              "      <th rowspan=\"3\" valign=\"top\">F</th>\n",
              "      <th>$40K - $60K</th>\n",
              "      <td>47.143868</td>\n",
              "      <td>2.390330</td>\n",
              "      <td>36.648585</td>\n",
              "      <td>3.883255</td>\n",
              "      <td>2.218160</td>\n",
              "      <td>2.290094</td>\n",
              "      <td>4933.461085</td>\n",
              "      <td>1282.136792</td>\n",
              "      <td>3651.324292</td>\n",
              "      <td>0.773999</td>\n",
              "      <td>4610.181604</td>\n",
              "      <td>70.698113</td>\n",
              "      <td>0.746117</td>\n",
              "      <td>0.377301</td>\n",
              "    </tr>\n",
              "    <tr>\n",
              "      <th>Less than $40K</th>\n",
              "      <td>46.321984</td>\n",
              "      <td>2.314952</td>\n",
              "      <td>35.834567</td>\n",
              "      <td>3.889711</td>\n",
              "      <td>2.292746</td>\n",
              "      <td>2.302739</td>\n",
              "      <td>3744.168024</td>\n",
              "      <td>1239.710955</td>\n",
              "      <td>2504.457069</td>\n",
              "      <td>0.766036</td>\n",
              "      <td>4663.312731</td>\n",
              "      <td>71.090674</td>\n",
              "      <td>0.752038</td>\n",
              "      <td>0.412005</td>\n",
              "    </tr>\n",
              "    <tr>\n",
              "      <th>Unknown</th>\n",
              "      <td>46.031891</td>\n",
              "      <td>2.337130</td>\n",
              "      <td>35.594533</td>\n",
              "      <td>3.916856</td>\n",
              "      <td>2.305239</td>\n",
              "      <td>2.321185</td>\n",
              "      <td>9587.792141</td>\n",
              "      <td>1196.726651</td>\n",
              "      <td>8391.065490</td>\n",
              "      <td>0.774502</td>\n",
              "      <td>4636.333713</td>\n",
              "      <td>71.194761</td>\n",
              "      <td>0.751691</td>\n",
              "      <td>0.237638</td>\n",
              "    </tr>\n",
              "    <tr>\n",
              "      <th rowspan=\"6\" valign=\"top\">M</th>\n",
              "      <th>$120K +</th>\n",
              "      <td>47.547421</td>\n",
              "      <td>2.469218</td>\n",
              "      <td>36.900166</td>\n",
              "      <td>3.890183</td>\n",
              "      <td>2.244592</td>\n",
              "      <td>2.449251</td>\n",
              "      <td>19713.746256</td>\n",
              "      <td>1336.322795</td>\n",
              "      <td>18377.423461</td>\n",
              "      <td>0.762699</td>\n",
              "      <td>4767.713810</td>\n",
              "      <td>67.489185</td>\n",
              "      <td>0.716155</td>\n",
              "      <td>0.138048</td>\n",
              "    </tr>\n",
              "    <tr>\n",
              "      <th>$40K - $60K</th>\n",
              "      <td>44.794337</td>\n",
              "      <td>2.152012</td>\n",
              "      <td>34.932936</td>\n",
              "      <td>3.876304</td>\n",
              "      <td>2.233979</td>\n",
              "      <td>2.418778</td>\n",
              "      <td>6297.130402</td>\n",
              "      <td>1249.779434</td>\n",
              "      <td>5047.350969</td>\n",
              "      <td>0.774414</td>\n",
              "      <td>4717.727273</td>\n",
              "      <td>66.034277</td>\n",
              "      <td>0.728224</td>\n",
              "      <td>0.297382</td>\n",
              "    </tr>\n",
              "    <tr>\n",
              "      <th>$60K - $80K</th>\n",
              "      <td>45.916735</td>\n",
              "      <td>2.438582</td>\n",
              "      <td>35.522671</td>\n",
              "      <td>3.925804</td>\n",
              "      <td>2.272877</td>\n",
              "      <td>2.370981</td>\n",
              "      <td>10800.343776</td>\n",
              "      <td>1246.267106</td>\n",
              "      <td>9554.076669</td>\n",
              "      <td>0.782574</td>\n",
              "      <td>4638.361913</td>\n",
              "      <td>66.116241</td>\n",
              "      <td>0.743383</td>\n",
              "      <td>0.224770</td>\n",
              "    </tr>\n",
              "    <tr>\n",
              "      <th>$80K - $120K</th>\n",
              "      <td>46.314772</td>\n",
              "      <td>2.474865</td>\n",
              "      <td>36.027842</td>\n",
              "      <td>3.986079</td>\n",
              "      <td>2.257541</td>\n",
              "      <td>2.395978</td>\n",
              "      <td>15905.934416</td>\n",
              "      <td>1290.595514</td>\n",
              "      <td>14615.338902</td>\n",
              "      <td>0.776818</td>\n",
              "      <td>4621.898685</td>\n",
              "      <td>65.546017</td>\n",
              "      <td>0.739148</td>\n",
              "      <td>0.171026</td>\n",
              "    </tr>\n",
              "    <tr>\n",
              "      <th>Less than $40K</th>\n",
              "      <td>45.712551</td>\n",
              "      <td>1.566802</td>\n",
              "      <td>36.008097</td>\n",
              "      <td>3.975709</td>\n",
              "      <td>2.408907</td>\n",
              "      <td>2.574899</td>\n",
              "      <td>4538.092713</td>\n",
              "      <td>1247.898785</td>\n",
              "      <td>3290.193927</td>\n",
              "      <td>0.766093</td>\n",
              "      <td>4794.894737</td>\n",
              "      <td>66.566802</td>\n",
              "      <td>0.689146</td>\n",
              "      <td>0.374879</td>\n",
              "    </tr>\n",
              "    <tr>\n",
              "      <th>Unknown</th>\n",
              "      <td>46.085106</td>\n",
              "      <td>0.936170</td>\n",
              "      <td>35.021277</td>\n",
              "      <td>4.148936</td>\n",
              "      <td>2.297872</td>\n",
              "      <td>2.595745</td>\n",
              "      <td>12736.708511</td>\n",
              "      <td>1341.127660</td>\n",
              "      <td>11395.580851</td>\n",
              "      <td>0.834298</td>\n",
              "      <td>3540.234043</td>\n",
              "      <td>61.851064</td>\n",
              "      <td>0.835809</td>\n",
              "      <td>0.186745</td>\n",
              "    </tr>\n",
              "  </tbody>\n",
              "</table>\n",
              "</div>"
            ],
            "text/plain": [
              "                                          Customer_Age  ...  Avg_Utilization_Ratio\n",
              "Attrition_Flag    Gender Income_Category                ...                       \n",
              "Attrited Customer F      $40K - $60K         46.355422  ...               0.196000\n",
              "                         Less than $40K      46.503436  ...               0.222876\n",
              "                         Unknown             47.252747  ...               0.154495\n",
              "                  M      $120K +             47.873016  ...               0.064532\n",
              "                         $40K - $60K         45.390476  ...               0.139181\n",
              "                         $60K - $80K         46.301587  ...               0.086090\n",
              "                         $80K - $120K        47.033058  ...               0.111640\n",
              "                         Less than $40K      44.966667  ...               0.264867\n",
              "                         Unknown             55.000000  ...               0.000000\n",
              "Existing Customer F      $40K - $60K         47.143868  ...               0.377301\n",
              "                         Less than $40K      46.321984  ...               0.412005\n",
              "                         Unknown             46.031891  ...               0.237638\n",
              "                  M      $120K +             47.547421  ...               0.138048\n",
              "                         $40K - $60K         44.794337  ...               0.297382\n",
              "                         $60K - $80K         45.916735  ...               0.224770\n",
              "                         $80K - $120K        46.314772  ...               0.171026\n",
              "                         Less than $40K      45.712551  ...               0.374879\n",
              "                         Unknown             46.085106  ...               0.186745\n",
              "\n",
              "[18 rows x 14 columns]"
            ]
          },
          "metadata": {},
          "execution_count": 35
        }
      ]
    },
    {
      "cell_type": "code",
      "metadata": {
        "colab": {
          "base_uri": "https://localhost:8080/",
          "height": 388
        },
        "id": "qiRcyJNQyBBa",
        "outputId": "1c9f5a79-4bbb-47c7-82fb-35a12b3a96f8"
      },
      "source": [
        "#Gênero\n",
        "plt.figure(figsize=(13,6))\n",
        "plot=sns.countplot(x=df.Gender)\n",
        "plt.show()"
      ],
      "execution_count": null,
      "outputs": [
        {
          "output_type": "display_data",
          "data": {
            "image/png": "[encoded data removed]",
            "text/plain": [
              "<Figure size 936x432 with 1 Axes>"
            ]
          },
          "metadata": {
            "needs_background": "light"
          }
        }
      ]
    },
    {
      "cell_type": "code",
      "metadata": {
        "colab": {
          "base_uri": "https://localhost:8080/",
          "height": 389
        },
        "id": "IWgwfARKU9Oh",
        "outputId": "117e5b27-7b4c-4e04-ec33-29b6a84e5698"
      },
      "source": [
        "#Idade\n",
        "plt.figure(figsize=(13,6))\n",
        "plot=sns.countplot(x=df.Customer_Age)\n",
        "plt.show()"
      ],
      "execution_count": null,
      "outputs": [
        {
          "output_type": "display_data",
          "data": {
            "image/png": "[encoded data removed]",
            "text/plain": [
              "<Figure size 936x432 with 1 Axes>"
            ]
          },
          "metadata": {
            "needs_background": "light"
          }
        }
      ]
    },
    {
      "cell_type": "code",
      "metadata": {
        "colab": {
          "base_uri": "https://localhost:8080/",
          "height": 389
        },
        "id": "M2AW2tOaUkUK",
        "outputId": "6c5ed940-fbfb-4d7d-9926-52eeb1cda981"
      },
      "source": [
        "#Educação\n",
        "plt.figure(figsize=(13,6))\n",
        "plot=sns.countplot(x=df.Education_Level,hue=df.Attrition_Flag)\n",
        "plt.show()"
      ],
      "execution_count": null,
      "outputs": [
        {
          "output_type": "display_data",
          "data": {
            "image/png": "[encoded data removed]",
            "text/plain": [
              "<Figure size 936x432 with 1 Axes>"
            ]
          },
          "metadata": {
            "needs_background": "light"
          }
        }
      ]
    },
    {
      "cell_type": "code",
      "metadata": {
        "colab": {
          "base_uri": "https://localhost:8080/",
          "height": 389
        },
        "id": "Rnv8pP4wUzFh",
        "outputId": "d4c5b1f0-1086-468b-e626-caaf64a65316"
      },
      "source": [
        "#Idade por tipo de cliente\n",
        "plt.figure(figsize=(13,6))\n",
        "plot=sns.countplot(x=df.Customer_Age,hue=df.Attrition_Flag)\n",
        "plt.show()"
      ],
      "execution_count": null,
      "outputs": [
        {
          "output_type": "display_data",
          "data": {
            "image/png": "[encoded data removed]",
            "text/plain": [
              "<Figure size 936x432 with 1 Axes>"
            ]
          },
          "metadata": {
            "needs_background": "light"
          }
        }
      ]
    },
    {
      "cell_type": "code",
      "metadata": {
        "colab": {
          "base_uri": "https://localhost:8080/",
          "height": 391
        },
        "id": "F8J6hP1tVDGl",
        "outputId": "ba2fb529-4165-4e69-ca94-5ed08123e6f8"
      },
      "source": [
        "#Quantidade de clientes por renda e tipo\n",
        "plt.figure(figsize=(13,6))\n",
        "plot=sns.countplot(x=df.Income_Category,hue=df.Attrition_Flag)\n",
        "plt.show()"
      ],
      "execution_count": null,
      "outputs": [
        {
          "output_type": "display_data",
          "data": {
            "image/png": "[encoded data removed]",
            "text/plain": [
              "<Figure size 936x432 with 1 Axes>"
            ]
          },
          "metadata": {
            "needs_background": "light"
          }
        }
      ]
    },
    {
      "cell_type": "code",
      "metadata": {
        "colab": {
          "base_uri": "https://localhost:8080/",
          "height": 386
        },
        "id": "UC5aVVluWOx7",
        "outputId": "6b9aa644-36e3-40da-cb71-fce8f47cbe0c"
      },
      "source": [
        "plt.figure(figsize=(13,6))\n",
        "plot=sns.catplot(x='Card_Category',y='Credit_Limit',col='Attrition_Flag',hue='Gender',data=df,kind='bar')\n",
        "plt.show()"
      ],
      "execution_count": null,
      "outputs": [
        {
          "output_type": "display_data",
          "data": {
            "text/plain": [
              "<Figure size 936x432 with 0 Axes>"
            ]
          },
          "metadata": {}
        },
        {
          "output_type": "display_data",
          "data": {
            "image/png": "[encoded data removed]",
            "text/plain": [
              "<Figure size 764.875x360 with 2 Axes>"
            ]
          },
          "metadata": {
            "needs_background": "light"
          }
        }
      ]
    },
    {
      "cell_type": "code",
      "metadata": {
        "colab": {
          "base_uri": "https://localhost:8080/",
          "height": 386
        },
        "id": "kOE5HLuoYntA",
        "outputId": "6fe4fe98-1e21-4c05-affd-956fbce487a5"
      },
      "source": [
        "plt.figure(figsize=(17,6))\n",
        "plot=sns.catplot(x='Income_Category',y='Credit_Limit',col='Attrition_Flag',hue='Gender',data=df,kind='bar')\n",
        "plt.show()"
      ],
      "execution_count": null,
      "outputs": [
        {
          "output_type": "display_data",
          "data": {
            "text/plain": [
              "<Figure size 1224x432 with 0 Axes>"
            ]
          },
          "metadata": {}
        },
        {
          "output_type": "display_data",
          "data": {
            "image/png": "[encoded data removed]",
            "text/plain": [
              "<Figure size 764.875x360 with 2 Axes>"
            ]
          },
          "metadata": {
            "needs_background": "light"
          }
        }
      ]
    },
    {
      "cell_type": "code",
      "metadata": {
        "colab": {
          "base_uri": "https://localhost:8080/",
          "height": 386
        },
        "id": "8AmoQhxoZ2gX",
        "outputId": "e6ccda5c-cc5a-47b6-fdd6-1b4cec9e26c2"
      },
      "source": [
        "plt.figure(figsize=(17,6))\n",
        "plot=sns.catplot(x='Education_Level',y='Credit_Limit',col='Attrition_Flag',hue='Gender',data=df,kind='bar')\n",
        "plt.show()"
      ],
      "execution_count": null,
      "outputs": [
        {
          "output_type": "display_data",
          "data": {
            "text/plain": [
              "<Figure size 1224x432 with 0 Axes>"
            ]
          },
          "metadata": {}
        },
        {
          "output_type": "display_data",
          "data": {
            "image/png": "[encoded data removed]",
            "text/plain": [
              "<Figure size 764.875x360 with 2 Axes>"
            ]
          },
          "metadata": {
            "needs_background": "light"
          }
        }
      ]
    },
    {
      "cell_type": "code",
      "metadata": {
        "colab": {
          "base_uri": "https://localhost:8080/",
          "height": 391
        },
        "id": "LiH3QC2enR14",
        "outputId": "b6a542c0-f446-450f-f5cf-ca5076b97023"
      },
      "source": [
        "plt.figure(figsize=(13,6))\n",
        "plot=sns.countplot(x=df.Income_Category,hue=df.Gender)\n",
        "plt.show()"
      ],
      "execution_count": null,
      "outputs": [
        {
          "output_type": "display_data",
          "data": {
            "image/png": "[encoded data removed]",
            "text/plain": [
              "<Figure size 936x432 with 1 Axes>"
            ]
          },
          "metadata": {
            "needs_background": "light"
          }
        }
      ]
    },
    {
      "cell_type": "markdown",
      "metadata": {
        "id": "_h0_bxgl2V5E"
      },
      "source": [
        "# Decision Tree"
      ]
    },
    {
      "cell_type": "markdown",
      "metadata": {
        "id": "l5FHSso-fpxH"
      },
      "source": [
        "O primeiro modelo de machine learning que iremos aplicar no nosso dataset é o decision tree. É um modelo muito conhecido e utilizado, no qual visa formar caminhos que vão dividindo os dados em pequenos grupos, de acordo com suas características, para então dizer se um cliente se encaixa no grupo dos churners ou dos não-churners de acordo com as características dele."
      ]
    },
    {
      "cell_type": "code",
      "metadata": {
        "id": "yQ45JHrp2Yot"
      },
      "source": [
        "#Importando as bibliotecas\n",
        "from sklearn.tree import DecisionTreeClassifier\n",
        "from sklearn import tree"
      ],
      "execution_count": null,
      "outputs": []
    },
    {
      "cell_type": "code",
      "metadata": {
        "colab": {
          "base_uri": "https://localhost:8080/",
          "height": 444
        },
        "id": "z-bZ7Ibb6zh6",
        "outputId": "13ad2471-67d8-4113-bbb7-d041380c3503"
      },
      "source": [
        "#Definindo as features (X) do nosso modelo\n",
        "X = df.copy()\n",
        "X = X.drop('Attrition_Flag', axis=1)\n",
        "X"
      ],
      "execution_count": null,
      "outputs": [
        {
          "output_type": "execute_result",
          "data": {
            "text/html": [
              "<div>\n",
              "<style scoped>\n",
              "    .dataframe tbody tr th:only-of-type {\n",
              "        vertical-align: middle;\n",
              "    }\n",
              "\n",
              "    .dataframe tbody tr th {\n",
              "        vertical-align: top;\n",
              "    }\n",
              "\n",
              "    .dataframe thead th {\n",
              "        text-align: right;\n",
              "    }\n",
              "</style>\n",
              "<table border=\"1\" class=\"dataframe\">\n",
              "  <thead>\n",
              "    <tr style=\"text-align: right;\">\n",
              "      <th></th>\n",
              "      <th>Customer_Age</th>\n",
              "      <th>Gender</th>\n",
              "      <th>Dependent_count</th>\n",
              "      <th>Education_Level</th>\n",
              "      <th>Marital_Status</th>\n",
              "      <th>Income_Category</th>\n",
              "      <th>Card_Category</th>\n",
              "      <th>Months_on_book</th>\n",
              "      <th>Total_Relationship_Count</th>\n",
              "      <th>Months_Inactive_12_mon</th>\n",
              "      <th>Contacts_Count_12_mon</th>\n",
              "      <th>Credit_Limit</th>\n",
              "      <th>Total_Revolving_Bal</th>\n",
              "      <th>Avg_Open_To_Buy</th>\n",
              "      <th>Total_Amt_Chng_Q4_Q1</th>\n",
              "      <th>Total_Trans_Amt</th>\n",
              "      <th>Total_Trans_Ct</th>\n",
              "      <th>Total_Ct_Chng_Q4_Q1</th>\n",
              "      <th>Avg_Utilization_Ratio</th>\n",
              "    </tr>\n",
              "  </thead>\n",
              "  <tbody>\n",
              "    <tr>\n",
              "      <th>0</th>\n",
              "      <td>45</td>\n",
              "      <td>M</td>\n",
              "      <td>3</td>\n",
              "      <td>High School</td>\n",
              "      <td>Married</td>\n",
              "      <td>$60K - $80K</td>\n",
              "      <td>Blue</td>\n",
              "      <td>39</td>\n",
              "      <td>5</td>\n",
              "      <td>1</td>\n",
              "      <td>3</td>\n",
              "      <td>12691.0</td>\n",
              "      <td>777</td>\n",
              "      <td>11914.0</td>\n",
              "      <td>1.335</td>\n",
              "      <td>1144</td>\n",
              "      <td>42</td>\n",
              "      <td>1.625</td>\n",
              "      <td>0.061</td>\n",
              "    </tr>\n",
              "    <tr>\n",
              "      <th>1</th>\n",
              "      <td>49</td>\n",
              "      <td>F</td>\n",
              "      <td>5</td>\n",
              "      <td>Graduate</td>\n",
              "      <td>Single</td>\n",
              "      <td>Less than $40K</td>\n",
              "      <td>Blue</td>\n",
              "      <td>44</td>\n",
              "      <td>6</td>\n",
              "      <td>1</td>\n",
              "      <td>2</td>\n",
              "      <td>8256.0</td>\n",
              "      <td>864</td>\n",
              "      <td>7392.0</td>\n",
              "      <td>1.541</td>\n",
              "      <td>1291</td>\n",
              "      <td>33</td>\n",
              "      <td>3.714</td>\n",
              "      <td>0.105</td>\n",
              "    </tr>\n",
              "    <tr>\n",
              "      <th>2</th>\n",
              "      <td>51</td>\n",
              "      <td>M</td>\n",
              "      <td>3</td>\n",
              "      <td>Graduate</td>\n",
              "      <td>Married</td>\n",
              "      <td>$80K - $120K</td>\n",
              "      <td>Blue</td>\n",
              "      <td>36</td>\n",
              "      <td>4</td>\n",
              "      <td>1</td>\n",
              "      <td>0</td>\n",
              "      <td>3418.0</td>\n",
              "      <td>0</td>\n",
              "      <td>3418.0</td>\n",
              "      <td>2.594</td>\n",
              "      <td>1887</td>\n",
              "      <td>20</td>\n",
              "      <td>2.333</td>\n",
              "      <td>0.000</td>\n",
              "    </tr>\n",
              "    <tr>\n",
              "      <th>3</th>\n",
              "      <td>40</td>\n",
              "      <td>F</td>\n",
              "      <td>4</td>\n",
              "      <td>High School</td>\n",
              "      <td>Unknown</td>\n",
              "      <td>Less than $40K</td>\n",
              "      <td>Blue</td>\n",
              "      <td>34</td>\n",
              "      <td>3</td>\n",
              "      <td>4</td>\n",
              "      <td>1</td>\n",
              "      <td>3313.0</td>\n",
              "      <td>2517</td>\n",
              "      <td>796.0</td>\n",
              "      <td>1.405</td>\n",
              "      <td>1171</td>\n",
              "      <td>20</td>\n",
              "      <td>2.333</td>\n",
              "      <td>0.760</td>\n",
              "    </tr>\n",
              "    <tr>\n",
              "      <th>4</th>\n",
              "      <td>40</td>\n",
              "      <td>M</td>\n",
              "      <td>3</td>\n",
              "      <td>Uneducated</td>\n",
              "      <td>Married</td>\n",
              "      <td>$60K - $80K</td>\n",
              "      <td>Blue</td>\n",
              "      <td>21</td>\n",
              "      <td>5</td>\n",
              "      <td>1</td>\n",
              "      <td>0</td>\n",
              "      <td>4716.0</td>\n",
              "      <td>0</td>\n",
              "      <td>4716.0</td>\n",
              "      <td>2.175</td>\n",
              "      <td>816</td>\n",
              "      <td>28</td>\n",
              "      <td>2.500</td>\n",
              "      <td>0.000</td>\n",
              "    </tr>\n",
              "    <tr>\n",
              "      <th>...</th>\n",
              "      <td>...</td>\n",
              "      <td>...</td>\n",
              "      <td>...</td>\n",
              "      <td>...</td>\n",
              "      <td>...</td>\n",
              "      <td>...</td>\n",
              "      <td>...</td>\n",
              "      <td>...</td>\n",
              "      <td>...</td>\n",
              "      <td>...</td>\n",
              "      <td>...</td>\n",
              "      <td>...</td>\n",
              "      <td>...</td>\n",
              "      <td>...</td>\n",
              "      <td>...</td>\n",
              "      <td>...</td>\n",
              "      <td>...</td>\n",
              "      <td>...</td>\n",
              "      <td>...</td>\n",
              "    </tr>\n",
              "    <tr>\n",
              "      <th>10122</th>\n",
              "      <td>50</td>\n",
              "      <td>M</td>\n",
              "      <td>2</td>\n",
              "      <td>Graduate</td>\n",
              "      <td>Single</td>\n",
              "      <td>$40K - $60K</td>\n",
              "      <td>Blue</td>\n",
              "      <td>40</td>\n",
              "      <td>3</td>\n",
              "      <td>2</td>\n",
              "      <td>3</td>\n",
              "      <td>4003.0</td>\n",
              "      <td>1851</td>\n",
              "      <td>2152.0</td>\n",
              "      <td>0.703</td>\n",
              "      <td>15476</td>\n",
              "      <td>117</td>\n",
              "      <td>0.857</td>\n",
              "      <td>0.462</td>\n",
              "    </tr>\n",
              "    <tr>\n",
              "      <th>10123</th>\n",
              "      <td>41</td>\n",
              "      <td>M</td>\n",
              "      <td>2</td>\n",
              "      <td>Unknown</td>\n",
              "      <td>Divorced</td>\n",
              "      <td>$40K - $60K</td>\n",
              "      <td>Blue</td>\n",
              "      <td>25</td>\n",
              "      <td>4</td>\n",
              "      <td>2</td>\n",
              "      <td>3</td>\n",
              "      <td>4277.0</td>\n",
              "      <td>2186</td>\n",
              "      <td>2091.0</td>\n",
              "      <td>0.804</td>\n",
              "      <td>8764</td>\n",
              "      <td>69</td>\n",
              "      <td>0.683</td>\n",
              "      <td>0.511</td>\n",
              "    </tr>\n",
              "    <tr>\n",
              "      <th>10124</th>\n",
              "      <td>44</td>\n",
              "      <td>F</td>\n",
              "      <td>1</td>\n",
              "      <td>High School</td>\n",
              "      <td>Married</td>\n",
              "      <td>Less than $40K</td>\n",
              "      <td>Blue</td>\n",
              "      <td>36</td>\n",
              "      <td>5</td>\n",
              "      <td>3</td>\n",
              "      <td>4</td>\n",
              "      <td>5409.0</td>\n",
              "      <td>0</td>\n",
              "      <td>5409.0</td>\n",
              "      <td>0.819</td>\n",
              "      <td>10291</td>\n",
              "      <td>60</td>\n",
              "      <td>0.818</td>\n",
              "      <td>0.000</td>\n",
              "    </tr>\n",
              "    <tr>\n",
              "      <th>10125</th>\n",
              "      <td>30</td>\n",
              "      <td>M</td>\n",
              "      <td>2</td>\n",
              "      <td>Graduate</td>\n",
              "      <td>Unknown</td>\n",
              "      <td>$40K - $60K</td>\n",
              "      <td>Blue</td>\n",
              "      <td>36</td>\n",
              "      <td>4</td>\n",
              "      <td>3</td>\n",
              "      <td>3</td>\n",
              "      <td>5281.0</td>\n",
              "      <td>0</td>\n",
              "      <td>5281.0</td>\n",
              "      <td>0.535</td>\n",
              "      <td>8395</td>\n",
              "      <td>62</td>\n",
              "      <td>0.722</td>\n",
              "      <td>0.000</td>\n",
              "    </tr>\n",
              "    <tr>\n",
              "      <th>10126</th>\n",
              "      <td>43</td>\n",
              "      <td>F</td>\n",
              "      <td>2</td>\n",
              "      <td>Graduate</td>\n",
              "      <td>Married</td>\n",
              "      <td>Less than $40K</td>\n",
              "      <td>Silver</td>\n",
              "      <td>25</td>\n",
              "      <td>6</td>\n",
              "      <td>2</td>\n",
              "      <td>4</td>\n",
              "      <td>10388.0</td>\n",
              "      <td>1961</td>\n",
              "      <td>8427.0</td>\n",
              "      <td>0.703</td>\n",
              "      <td>10294</td>\n",
              "      <td>61</td>\n",
              "      <td>0.649</td>\n",
              "      <td>0.189</td>\n",
              "    </tr>\n",
              "  </tbody>\n",
              "</table>\n",
              "<p>10127 rows × 19 columns</p>\n",
              "</div>"
            ],
            "text/plain": [
              "       Customer_Age Gender  ...  Total_Ct_Chng_Q4_Q1 Avg_Utilization_Ratio\n",
              "0                45      M  ...                1.625                 0.061\n",
              "1                49      F  ...                3.714                 0.105\n",
              "2                51      M  ...                2.333                 0.000\n",
              "3                40      F  ...                2.333                 0.760\n",
              "4                40      M  ...                2.500                 0.000\n",
              "...             ...    ...  ...                  ...                   ...\n",
              "10122            50      M  ...                0.857                 0.462\n",
              "10123            41      M  ...                0.683                 0.511\n",
              "10124            44      F  ...                0.818                 0.000\n",
              "10125            30      M  ...                0.722                 0.000\n",
              "10126            43      F  ...                0.649                 0.189\n",
              "\n",
              "[10127 rows x 19 columns]"
            ]
          },
          "metadata": {},
          "execution_count": 95
        }
      ]
    },
    {
      "cell_type": "code",
      "metadata": {
        "colab": {
          "base_uri": "https://localhost:8080/"
        },
        "id": "6-yY57VN6zq3",
        "outputId": "721a715e-db2e-47ad-b3ff-c9be955707fe"
      },
      "source": [
        "#Definindo o target (y) do nosso modelo\n",
        "y = df['Attrition_Flag']\n",
        "y"
      ],
      "execution_count": null,
      "outputs": [
        {
          "output_type": "execute_result",
          "data": {
            "text/plain": [
              "0        Existing Customer\n",
              "1        Existing Customer\n",
              "2        Existing Customer\n",
              "3        Existing Customer\n",
              "4        Existing Customer\n",
              "               ...        \n",
              "10122    Existing Customer\n",
              "10123    Attrited Customer\n",
              "10124    Attrited Customer\n",
              "10125    Attrited Customer\n",
              "10126    Attrited Customer\n",
              "Name: Attrition_Flag, Length: 10127, dtype: object"
            ]
          },
          "metadata": {},
          "execution_count": 96
        }
      ]
    },
    {
      "cell_type": "code",
      "metadata": {
        "colab": {
          "base_uri": "https://localhost:8080/",
          "height": 444
        },
        "id": "KWGHfwhJ9vjj",
        "outputId": "88db1561-7a96-4c30-c4ff-da9127e9fc45"
      },
      "source": [
        "#Transformando as colunas com valores categóricos para valores numéricos de acordo com o método factorize()\n",
        "stacked = X[['Gender','Education_Level', 'Marital_Status', 'Income_Category', 'Card_Category']].stack()\n",
        "X[['Gender','Education_Level', 'Marital_Status', 'Income_Category', 'Card_Category']] = pd.DataFrame(stacked.factorize()[0], index=stacked.index).unstack()\n",
        "X"
      ],
      "execution_count": null,
      "outputs": [
        {
          "output_type": "execute_result",
          "data": {
            "text/html": [
              "<div>\n",
              "<style scoped>\n",
              "    .dataframe tbody tr th:only-of-type {\n",
              "        vertical-align: middle;\n",
              "    }\n",
              "\n",
              "    .dataframe tbody tr th {\n",
              "        vertical-align: top;\n",
              "    }\n",
              "\n",
              "    .dataframe thead th {\n",
              "        text-align: right;\n",
              "    }\n",
              "</style>\n",
              "<table border=\"1\" class=\"dataframe\">\n",
              "  <thead>\n",
              "    <tr style=\"text-align: right;\">\n",
              "      <th></th>\n",
              "      <th>Customer_Age</th>\n",
              "      <th>Gender</th>\n",
              "      <th>Dependent_count</th>\n",
              "      <th>Education_Level</th>\n",
              "      <th>Marital_Status</th>\n",
              "      <th>Income_Category</th>\n",
              "      <th>Card_Category</th>\n",
              "      <th>Months_on_book</th>\n",
              "      <th>Total_Relationship_Count</th>\n",
              "      <th>Months_Inactive_12_mon</th>\n",
              "      <th>Contacts_Count_12_mon</th>\n",
              "      <th>Credit_Limit</th>\n",
              "      <th>Total_Revolving_Bal</th>\n",
              "      <th>Avg_Open_To_Buy</th>\n",
              "      <th>Total_Amt_Chng_Q4_Q1</th>\n",
              "      <th>Total_Trans_Amt</th>\n",
              "      <th>Total_Trans_Ct</th>\n",
              "      <th>Total_Ct_Chng_Q4_Q1</th>\n",
              "      <th>Avg_Utilization_Ratio</th>\n",
              "    </tr>\n",
              "  </thead>\n",
              "  <tbody>\n",
              "    <tr>\n",
              "      <th>0</th>\n",
              "      <td>45</td>\n",
              "      <td>0</td>\n",
              "      <td>3</td>\n",
              "      <td>1</td>\n",
              "      <td>2</td>\n",
              "      <td>3</td>\n",
              "      <td>4</td>\n",
              "      <td>39</td>\n",
              "      <td>5</td>\n",
              "      <td>1</td>\n",
              "      <td>3</td>\n",
              "      <td>12691.0</td>\n",
              "      <td>777</td>\n",
              "      <td>11914.0</td>\n",
              "      <td>1.335</td>\n",
              "      <td>1144</td>\n",
              "      <td>42</td>\n",
              "      <td>1.625</td>\n",
              "      <td>0.061</td>\n",
              "    </tr>\n",
              "    <tr>\n",
              "      <th>1</th>\n",
              "      <td>49</td>\n",
              "      <td>5</td>\n",
              "      <td>5</td>\n",
              "      <td>6</td>\n",
              "      <td>7</td>\n",
              "      <td>8</td>\n",
              "      <td>4</td>\n",
              "      <td>44</td>\n",
              "      <td>6</td>\n",
              "      <td>1</td>\n",
              "      <td>2</td>\n",
              "      <td>8256.0</td>\n",
              "      <td>864</td>\n",
              "      <td>7392.0</td>\n",
              "      <td>1.541</td>\n",
              "      <td>1291</td>\n",
              "      <td>33</td>\n",
              "      <td>3.714</td>\n",
              "      <td>0.105</td>\n",
              "    </tr>\n",
              "    <tr>\n",
              "      <th>2</th>\n",
              "      <td>51</td>\n",
              "      <td>0</td>\n",
              "      <td>3</td>\n",
              "      <td>6</td>\n",
              "      <td>2</td>\n",
              "      <td>9</td>\n",
              "      <td>4</td>\n",
              "      <td>36</td>\n",
              "      <td>4</td>\n",
              "      <td>1</td>\n",
              "      <td>0</td>\n",
              "      <td>3418.0</td>\n",
              "      <td>0</td>\n",
              "      <td>3418.0</td>\n",
              "      <td>2.594</td>\n",
              "      <td>1887</td>\n",
              "      <td>20</td>\n",
              "      <td>2.333</td>\n",
              "      <td>0.000</td>\n",
              "    </tr>\n",
              "    <tr>\n",
              "      <th>3</th>\n",
              "      <td>40</td>\n",
              "      <td>5</td>\n",
              "      <td>4</td>\n",
              "      <td>1</td>\n",
              "      <td>10</td>\n",
              "      <td>8</td>\n",
              "      <td>4</td>\n",
              "      <td>34</td>\n",
              "      <td>3</td>\n",
              "      <td>4</td>\n",
              "      <td>1</td>\n",
              "      <td>3313.0</td>\n",
              "      <td>2517</td>\n",
              "      <td>796.0</td>\n",
              "      <td>1.405</td>\n",
              "      <td>1171</td>\n",
              "      <td>20</td>\n",
              "      <td>2.333</td>\n",
              "      <td>0.760</td>\n",
              "    </tr>\n",
              "    <tr>\n",
              "      <th>4</th>\n",
              "      <td>40</td>\n",
              "      <td>0</td>\n",
              "      <td>3</td>\n",
              "      <td>11</td>\n",
              "      <td>2</td>\n",
              "      <td>3</td>\n",
              "      <td>4</td>\n",
              "      <td>21</td>\n",
              "      <td>5</td>\n",
              "      <td>1</td>\n",
              "      <td>0</td>\n",
              "      <td>4716.0</td>\n",
              "      <td>0</td>\n",
              "      <td>4716.0</td>\n",
              "      <td>2.175</td>\n",
              "      <td>816</td>\n",
              "      <td>28</td>\n",
              "      <td>2.500</td>\n",
              "      <td>0.000</td>\n",
              "    </tr>\n",
              "    <tr>\n",
              "      <th>...</th>\n",
              "      <td>...</td>\n",
              "      <td>...</td>\n",
              "      <td>...</td>\n",
              "      <td>...</td>\n",
              "      <td>...</td>\n",
              "      <td>...</td>\n",
              "      <td>...</td>\n",
              "      <td>...</td>\n",
              "      <td>...</td>\n",
              "      <td>...</td>\n",
              "      <td>...</td>\n",
              "      <td>...</td>\n",
              "      <td>...</td>\n",
              "      <td>...</td>\n",
              "      <td>...</td>\n",
              "      <td>...</td>\n",
              "      <td>...</td>\n",
              "      <td>...</td>\n",
              "      <td>...</td>\n",
              "    </tr>\n",
              "    <tr>\n",
              "      <th>10122</th>\n",
              "      <td>50</td>\n",
              "      <td>0</td>\n",
              "      <td>2</td>\n",
              "      <td>6</td>\n",
              "      <td>7</td>\n",
              "      <td>12</td>\n",
              "      <td>4</td>\n",
              "      <td>40</td>\n",
              "      <td>3</td>\n",
              "      <td>2</td>\n",
              "      <td>3</td>\n",
              "      <td>4003.0</td>\n",
              "      <td>1851</td>\n",
              "      <td>2152.0</td>\n",
              "      <td>0.703</td>\n",
              "      <td>15476</td>\n",
              "      <td>117</td>\n",
              "      <td>0.857</td>\n",
              "      <td>0.462</td>\n",
              "    </tr>\n",
              "    <tr>\n",
              "      <th>10123</th>\n",
              "      <td>41</td>\n",
              "      <td>0</td>\n",
              "      <td>2</td>\n",
              "      <td>10</td>\n",
              "      <td>19</td>\n",
              "      <td>12</td>\n",
              "      <td>4</td>\n",
              "      <td>25</td>\n",
              "      <td>4</td>\n",
              "      <td>2</td>\n",
              "      <td>3</td>\n",
              "      <td>4277.0</td>\n",
              "      <td>2186</td>\n",
              "      <td>2091.0</td>\n",
              "      <td>0.804</td>\n",
              "      <td>8764</td>\n",
              "      <td>69</td>\n",
              "      <td>0.683</td>\n",
              "      <td>0.511</td>\n",
              "    </tr>\n",
              "    <tr>\n",
              "      <th>10124</th>\n",
              "      <td>44</td>\n",
              "      <td>5</td>\n",
              "      <td>1</td>\n",
              "      <td>1</td>\n",
              "      <td>2</td>\n",
              "      <td>8</td>\n",
              "      <td>4</td>\n",
              "      <td>36</td>\n",
              "      <td>5</td>\n",
              "      <td>3</td>\n",
              "      <td>4</td>\n",
              "      <td>5409.0</td>\n",
              "      <td>0</td>\n",
              "      <td>5409.0</td>\n",
              "      <td>0.819</td>\n",
              "      <td>10291</td>\n",
              "      <td>60</td>\n",
              "      <td>0.818</td>\n",
              "      <td>0.000</td>\n",
              "    </tr>\n",
              "    <tr>\n",
              "      <th>10125</th>\n",
              "      <td>30</td>\n",
              "      <td>0</td>\n",
              "      <td>2</td>\n",
              "      <td>6</td>\n",
              "      <td>10</td>\n",
              "      <td>12</td>\n",
              "      <td>4</td>\n",
              "      <td>36</td>\n",
              "      <td>4</td>\n",
              "      <td>3</td>\n",
              "      <td>3</td>\n",
              "      <td>5281.0</td>\n",
              "      <td>0</td>\n",
              "      <td>5281.0</td>\n",
              "      <td>0.535</td>\n",
              "      <td>8395</td>\n",
              "      <td>62</td>\n",
              "      <td>0.722</td>\n",
              "      <td>0.000</td>\n",
              "    </tr>\n",
              "    <tr>\n",
              "      <th>10126</th>\n",
              "      <td>43</td>\n",
              "      <td>5</td>\n",
              "      <td>2</td>\n",
              "      <td>6</td>\n",
              "      <td>2</td>\n",
              "      <td>8</td>\n",
              "      <td>15</td>\n",
              "      <td>25</td>\n",
              "      <td>6</td>\n",
              "      <td>2</td>\n",
              "      <td>4</td>\n",
              "      <td>10388.0</td>\n",
              "      <td>1961</td>\n",
              "      <td>8427.0</td>\n",
              "      <td>0.703</td>\n",
              "      <td>10294</td>\n",
              "      <td>61</td>\n",
              "      <td>0.649</td>\n",
              "      <td>0.189</td>\n",
              "    </tr>\n",
              "  </tbody>\n",
              "</table>\n",
              "<p>10127 rows × 19 columns</p>\n",
              "</div>"
            ],
            "text/plain": [
              "       Customer_Age  Gender  ...  Total_Ct_Chng_Q4_Q1  Avg_Utilization_Ratio\n",
              "0                45       0  ...                1.625                  0.061\n",
              "1                49       5  ...                3.714                  0.105\n",
              "2                51       0  ...                2.333                  0.000\n",
              "3                40       5  ...                2.333                  0.760\n",
              "4                40       0  ...                2.500                  0.000\n",
              "...             ...     ...  ...                  ...                    ...\n",
              "10122            50       0  ...                0.857                  0.462\n",
              "10123            41       0  ...                0.683                  0.511\n",
              "10124            44       5  ...                0.818                  0.000\n",
              "10125            30       0  ...                0.722                  0.000\n",
              "10126            43       5  ...                0.649                  0.189\n",
              "\n",
              "[10127 rows x 19 columns]"
            ]
          },
          "metadata": {},
          "execution_count": 97
        }
      ]
    },
    {
      "cell_type": "code",
      "metadata": {
        "id": "V7tvmQAFARcY"
      },
      "source": [
        "# Criando o modelo\n",
        "modelo = DecisionTreeClassifier(criterion='entropy')\n",
        "\n",
        "#Treinaremos nosso modelo passando nossos valores de X e y\n",
        "modelo = modelo.fit(X, y)"
      ],
      "execution_count": null,
      "outputs": []
    },
    {
      "cell_type": "code",
      "metadata": {
        "colab": {
          "base_uri": "https://localhost:8080/",
          "height": 248
        },
        "id": "DVkeRLaWBoNw",
        "outputId": "e11f65e2-0c83-4ac0-e2ba-6192d0fa4651"
      },
      "source": [
        "# Gerando o gráfico\n",
        "grafico = tree.plot_tree(modelo, feature_names=X.columns, class_names=np.unique(y), filled=True)"
      ],
      "execution_count": null,
      "outputs": [
        {
          "output_type": "display_data",
          "data": {
            "image/png": "[encoded data removed]",
            "text/plain": [
              "<Figure size 432x288 with 1 Axes>"
            ]
          },
          "metadata": {
            "needs_background": "light"
          }
        }
      ]
    },
    {
      "cell_type": "markdown",
      "metadata": {
        "id": "occGkzxsgnlP"
      },
      "source": [
        "O gráfico acima mostra como é feito passo a passo a decisão, como os grupos são divididos até ser definido de qual grupo pertence um cliente. \n",
        "\n",
        "Exemplo: Temos ali o primeiro bloco (o mais acima) supomos que se a idade do cliente é maior que 30, ele segue o caminho a direita desse primeiro bloco, e se a sua idade for menor que 30, ele segue o caminho a esquerda do primeiro bloco. Dessa forma são feitas as divisões, até ser definido em qual grupo o cliente pertence.\n",
        "\n",
        "Infelizmente o gráfico não é visível para nós pois ele é muito grande e o espaço em que ele está sendo apresentado é pequeno."
      ]
    },
    {
      "cell_type": "code",
      "metadata": {
        "colab": {
          "base_uri": "https://localhost:8080/"
        },
        "id": "m2iqk00GBoVH",
        "outputId": "2f1f70b9-4445-40e5-edf0-d7b371e6709b"
      },
      "source": [
        "#Método que nos retorna a importância de cada coluna do dataset (X) ao definir de que classe cada indivíduo pertence\n",
        "modelo.feature_importances_"
      ],
      "execution_count": null,
      "outputs": [
        {
          "output_type": "execute_result",
          "data": {
            "text/plain": [
              "array([0.03396438, 0.00219013, 0.00671839, 0.00619835, 0.00560698,\n",
              "       0.00750473, 0.0004278 , 0.01107476, 0.0780061 , 0.00987073,\n",
              "       0.00989132, 0.01302899, 0.14523725, 0.01180173, 0.05811486,\n",
              "       0.17625835, 0.3284858 , 0.08203083, 0.01358851])"
            ]
          },
          "metadata": {},
          "execution_count": 100
        }
      ]
    },
    {
      "cell_type": "markdown",
      "metadata": {
        "id": "9Z1ept5riAPJ"
      },
      "source": [
        "Podemos perceber que as colunas mais importantes do gráfico, para definir em que grupo pertence um cliente, são as colunas 'Total_Trans_Amt' e 'Total_Trans_Ct' que representam respectivamente o valor total transacionado pelo cliente utilizando o cartão do banco, e a quantidade de transações feitas pelo cliente utilizando o cartão do banco. Podemos perceber que os clientes que costumam churnar são aqueles que utilizam menos o seu cartão.\n",
        "\n",
        "Algo interessante de se reparar também é o valor de 0.002 retornado á coluna 'Gender' do dataset, indicando que o gênero da pessoa não influencia em praticamente nada a decisão do modelo em qual grupo encaixar a pessoa, ou seja, vemos que não é um modelo sexista, que favorece pessoas de acordo com seu gênero."
      ]
    },
    {
      "cell_type": "code",
      "metadata": {
        "id": "rrSwKoPAFpMw"
      },
      "source": [
        "#Vamos testar a acurácia do nosso modelo\n",
        "#Primeiro de tudo dividimos as features e targets em dados de treino e teste\n",
        "X_train, X_test,y_train, y_test = train_test_split(X, y)"
      ],
      "execution_count": null,
      "outputs": []
    },
    {
      "cell_type": "code",
      "metadata": {
        "colab": {
          "base_uri": "https://localhost:8080/"
        },
        "id": "DTlxC-uXF1ut",
        "outputId": "213c3a9c-91fa-41e9-c019-6fab23ed86a2"
      },
      "source": [
        "# Treinando o modelo com os dados passados como treino\n",
        "modelo = modelo.fit(X_train, y_train)\n",
        "\n",
        "#Pedimos para o modelo prever as targets das features passadas como teste\n",
        "y_pred = modelo.predict(X_test)\n",
        "y_pred"
      ],
      "execution_count": null,
      "outputs": [
        {
          "output_type": "execute_result",
          "data": {
            "text/plain": [
              "array(['Attrited Customer', 'Existing Customer', 'Attrited Customer', ...,\n",
              "       'Existing Customer', 'Existing Customer', 'Existing Customer'],\n",
              "      dtype=object)"
            ]
          },
          "metadata": {},
          "execution_count": 102
        }
      ]
    },
    {
      "cell_type": "code",
      "metadata": {
        "colab": {
          "base_uri": "https://localhost:8080/"
        },
        "id": "c-btWBmzHarG",
        "outputId": "add723b9-1506-4a95-caa2-bc11bcd73083"
      },
      "source": [
        "#Agora mediremos o quão preciso é nosso modelo através das métricas F1 score, precision ,recall e accuracy\n",
        "\n",
        "print(\"F1 score:\", f1_score(y_test, y_pred, average='micro'))\n",
        "print(\"precision score:\", precision_score(y_test, y_pred, average='micro'))\n",
        "print(\"recall score:\", recall_score(y_test, y_pred, average='micro'))\n",
        "print(\"accuracy score:\", accuracy_score(y_test, y_pred))"
      ],
      "execution_count": null,
      "outputs": [
        {
          "output_type": "stream",
          "name": "stdout",
          "text": [
            "F1 score: 0.9395734597156398\n",
            "precision score: 0.9395734597156398\n",
            "recall score: 0.9395734597156398\n",
            "accuracy score: 0.9395734597156398\n"
          ]
        }
      ]
    },
    {
      "cell_type": "markdown",
      "metadata": {
        "id": "j1U6l40-ox6C"
      },
      "source": [
        "As bibliotecas retornaram que nosso modelo teve 93,9% de acerto em relação aos grupos das features passadas como teste. Por esses números podemos acreditar que é um bom modelo, e futuramente testá-lo em cima de outros dados de outros datasets para testar se a porcentagem retornada será alta também."
      ]
    },
    {
      "cell_type": "code",
      "metadata": {
        "colab": {
          "base_uri": "https://localhost:8080/"
        },
        "id": "EE83RO4LH8-3",
        "outputId": "5efeef20-5139-4db5-82e4-216325beb330"
      },
      "source": [
        "#Faremos também uma matriz de confusão\n",
        "mc = confusion_matrix(y_test, y_pred)\n",
        "print(mc)"
      ],
      "execution_count": null,
      "outputs": [
        {
          "output_type": "stream",
          "name": "stdout",
          "text": [
            "[[ 341   73]\n",
            " [  80 2038]]\n"
          ]
        }
      ]
    },
    {
      "cell_type": "markdown",
      "metadata": {
        "id": "iz7WU2WapfV0"
      },
      "source": [
        "Nossa matriz de confusão nos retornou que 2038 clientes foram corretamente previstos como não-churners, 341 foram previstos corretamente como churner, totalizando então 93,9% dos clientes sendo corretamente classificados. Tivemos também 80 clientes que churnaram e classificados erroneamente como não-churners e 73 clientes que não churnaram e classificados erroneamente como churners."
      ]
    },
    {
      "cell_type": "code",
      "metadata": {
        "id": "bMMaseWq2XXy"
      },
      "source": [
        "import joblib\n",
        "from joblib import dump, load"
      ],
      "execution_count": null,
      "outputs": []
    },
    {
      "cell_type": "code",
      "metadata": {
        "colab": {
          "base_uri": "https://localhost:8080/"
        },
        "id": "VeOM9yVQIiZ_",
        "outputId": "220837a5-4ec7-4e82-c625-a89ab788b177"
      },
      "source": [
        "#Vamos persistir nosso modelo, salvando-o num arquivo.\n",
        "joblib.dump(modelo, 'decision_tree_joblib')"
      ],
      "execution_count": null,
      "outputs": [
        {
          "output_type": "execute_result",
          "data": {
            "text/plain": [
              "['decision_tree_joblib']"
            ]
          },
          "metadata": {},
          "execution_count": 106
        }
      ]
    },
    {
      "cell_type": "code",
      "metadata": {
        "id": "WmILImT32cwo",
        "colab": {
          "base_uri": "https://localhost:8080/"
        },
        "outputId": "bc4f790a-8b90-47da-92b9-85a0333e14ca"
      },
      "source": [
        "#Agora podemos carregar o arquivo do modelo e aplicar uma variável para receber seu valor\n",
        "clf = load('decision_tree_joblib')\n",
        "clf.predict(X[0:5])"
      ],
      "execution_count": null,
      "outputs": [
        {
          "output_type": "execute_result",
          "data": {
            "text/plain": [
              "array(['Existing Customer', 'Existing Customer', 'Existing Customer',\n",
              "       'Existing Customer', 'Existing Customer'], dtype=object)"
            ]
          },
          "metadata": {},
          "execution_count": 107
        }
      ]
    },
    {
      "cell_type": "markdown",
      "metadata": {
        "id": "YNIv2k7F4CWR"
      },
      "source": [
        "# Support Vector Machines"
      ]
    },
    {
      "cell_type": "markdown",
      "metadata": {
        "id": "sBIGbsG1sIos"
      },
      "source": [
        "O segundo modelo que iremos testar para prever a classificação de cada cliente é o modelo do Support Vector Machines. Outro modelo também muito utilizado no machine learning, no qual tenta traçar a melhor linha de separação possível (também chamada de hiperplano) para separar os pontos dos 2 grupos. Essa linha deve ser encontrada de modo que a margem (distâcia entre o hiperplano e o primeiro ponto de cada classe) seja a maior possível.\n"
      ]
    },
    {
      "cell_type": "code",
      "metadata": {
        "id": "jX4n_gAg4D13"
      },
      "source": [
        "#Importando a biblioteca\n",
        "from sklearn import svm"
      ],
      "execution_count": null,
      "outputs": []
    },
    {
      "cell_type": "code",
      "metadata": {
        "colab": {
          "base_uri": "https://localhost:8080/",
          "height": 439
        },
        "id": "K1vC2QFp9p96",
        "outputId": "27eab363-2c84-451c-baad-742a35a2f760"
      },
      "source": [
        "#Definindo as features (X) do nosso modelo\n",
        "X = df.copy()\n",
        "X = X.drop('Attrition_Flag', axis=1)\n",
        "X"
      ],
      "execution_count": null,
      "outputs": [
        {
          "output_type": "execute_result",
          "data": {
            "text/html": [
              "<div>\n",
              "<style scoped>\n",
              "    .dataframe tbody tr th:only-of-type {\n",
              "        vertical-align: middle;\n",
              "    }\n",
              "\n",
              "    .dataframe tbody tr th {\n",
              "        vertical-align: top;\n",
              "    }\n",
              "\n",
              "    .dataframe thead th {\n",
              "        text-align: right;\n",
              "    }\n",
              "</style>\n",
              "<table border=\"1\" class=\"dataframe\">\n",
              "  <thead>\n",
              "    <tr style=\"text-align: right;\">\n",
              "      <th></th>\n",
              "      <th>Customer_Age</th>\n",
              "      <th>Gender</th>\n",
              "      <th>Dependent_count</th>\n",
              "      <th>Education_Level</th>\n",
              "      <th>Marital_Status</th>\n",
              "      <th>Income_Category</th>\n",
              "      <th>Card_Category</th>\n",
              "      <th>Months_on_book</th>\n",
              "      <th>Total_Relationship_Count</th>\n",
              "      <th>Months_Inactive_12_mon</th>\n",
              "      <th>Contacts_Count_12_mon</th>\n",
              "      <th>Credit_Limit</th>\n",
              "      <th>Total_Revolving_Bal</th>\n",
              "      <th>Avg_Open_To_Buy</th>\n",
              "      <th>Total_Amt_Chng_Q4_Q1</th>\n",
              "      <th>Total_Trans_Amt</th>\n",
              "      <th>Total_Trans_Ct</th>\n",
              "      <th>Total_Ct_Chng_Q4_Q1</th>\n",
              "      <th>Avg_Utilization_Ratio</th>\n",
              "    </tr>\n",
              "  </thead>\n",
              "  <tbody>\n",
              "    <tr>\n",
              "      <th>0</th>\n",
              "      <td>45</td>\n",
              "      <td>M</td>\n",
              "      <td>3</td>\n",
              "      <td>High School</td>\n",
              "      <td>Married</td>\n",
              "      <td>$60K - $80K</td>\n",
              "      <td>Blue</td>\n",
              "      <td>39</td>\n",
              "      <td>5</td>\n",
              "      <td>1</td>\n",
              "      <td>3</td>\n",
              "      <td>12691.0</td>\n",
              "      <td>777</td>\n",
              "      <td>11914.0</td>\n",
              "      <td>1.335</td>\n",
              "      <td>1144</td>\n",
              "      <td>42</td>\n",
              "      <td>1.625</td>\n",
              "      <td>0.061</td>\n",
              "    </tr>\n",
              "    <tr>\n",
              "      <th>1</th>\n",
              "      <td>49</td>\n",
              "      <td>F</td>\n",
              "      <td>5</td>\n",
              "      <td>Graduate</td>\n",
              "      <td>Single</td>\n",
              "      <td>Less than $40K</td>\n",
              "      <td>Blue</td>\n",
              "      <td>44</td>\n",
              "      <td>6</td>\n",
              "      <td>1</td>\n",
              "      <td>2</td>\n",
              "      <td>8256.0</td>\n",
              "      <td>864</td>\n",
              "      <td>7392.0</td>\n",
              "      <td>1.541</td>\n",
              "      <td>1291</td>\n",
              "      <td>33</td>\n",
              "      <td>3.714</td>\n",
              "      <td>0.105</td>\n",
              "    </tr>\n",
              "    <tr>\n",
              "      <th>2</th>\n",
              "      <td>51</td>\n",
              "      <td>M</td>\n",
              "      <td>3</td>\n",
              "      <td>Graduate</td>\n",
              "      <td>Married</td>\n",
              "      <td>$80K - $120K</td>\n",
              "      <td>Blue</td>\n",
              "      <td>36</td>\n",
              "      <td>4</td>\n",
              "      <td>1</td>\n",
              "      <td>0</td>\n",
              "      <td>3418.0</td>\n",
              "      <td>0</td>\n",
              "      <td>3418.0</td>\n",
              "      <td>2.594</td>\n",
              "      <td>1887</td>\n",
              "      <td>20</td>\n",
              "      <td>2.333</td>\n",
              "      <td>0.000</td>\n",
              "    </tr>\n",
              "    <tr>\n",
              "      <th>3</th>\n",
              "      <td>40</td>\n",
              "      <td>F</td>\n",
              "      <td>4</td>\n",
              "      <td>High School</td>\n",
              "      <td>Unknown</td>\n",
              "      <td>Less than $40K</td>\n",
              "      <td>Blue</td>\n",
              "      <td>34</td>\n",
              "      <td>3</td>\n",
              "      <td>4</td>\n",
              "      <td>1</td>\n",
              "      <td>3313.0</td>\n",
              "      <td>2517</td>\n",
              "      <td>796.0</td>\n",
              "      <td>1.405</td>\n",
              "      <td>1171</td>\n",
              "      <td>20</td>\n",
              "      <td>2.333</td>\n",
              "      <td>0.760</td>\n",
              "    </tr>\n",
              "    <tr>\n",
              "      <th>4</th>\n",
              "      <td>40</td>\n",
              "      <td>M</td>\n",
              "      <td>3</td>\n",
              "      <td>Uneducated</td>\n",
              "      <td>Married</td>\n",
              "      <td>$60K - $80K</td>\n",
              "      <td>Blue</td>\n",
              "      <td>21</td>\n",
              "      <td>5</td>\n",
              "      <td>1</td>\n",
              "      <td>0</td>\n",
              "      <td>4716.0</td>\n",
              "      <td>0</td>\n",
              "      <td>4716.0</td>\n",
              "      <td>2.175</td>\n",
              "      <td>816</td>\n",
              "      <td>28</td>\n",
              "      <td>2.500</td>\n",
              "      <td>0.000</td>\n",
              "    </tr>\n",
              "    <tr>\n",
              "      <th>...</th>\n",
              "      <td>...</td>\n",
              "      <td>...</td>\n",
              "      <td>...</td>\n",
              "      <td>...</td>\n",
              "      <td>...</td>\n",
              "      <td>...</td>\n",
              "      <td>...</td>\n",
              "      <td>...</td>\n",
              "      <td>...</td>\n",
              "      <td>...</td>\n",
              "      <td>...</td>\n",
              "      <td>...</td>\n",
              "      <td>...</td>\n",
              "      <td>...</td>\n",
              "      <td>...</td>\n",
              "      <td>...</td>\n",
              "      <td>...</td>\n",
              "      <td>...</td>\n",
              "      <td>...</td>\n",
              "    </tr>\n",
              "    <tr>\n",
              "      <th>10122</th>\n",
              "      <td>50</td>\n",
              "      <td>M</td>\n",
              "      <td>2</td>\n",
              "      <td>Graduate</td>\n",
              "      <td>Single</td>\n",
              "      <td>$40K - $60K</td>\n",
              "      <td>Blue</td>\n",
              "      <td>40</td>\n",
              "      <td>3</td>\n",
              "      <td>2</td>\n",
              "      <td>3</td>\n",
              "      <td>4003.0</td>\n",
              "      <td>1851</td>\n",
              "      <td>2152.0</td>\n",
              "      <td>0.703</td>\n",
              "      <td>15476</td>\n",
              "      <td>117</td>\n",
              "      <td>0.857</td>\n",
              "      <td>0.462</td>\n",
              "    </tr>\n",
              "    <tr>\n",
              "      <th>10123</th>\n",
              "      <td>41</td>\n",
              "      <td>M</td>\n",
              "      <td>2</td>\n",
              "      <td>Unknown</td>\n",
              "      <td>Divorced</td>\n",
              "      <td>$40K - $60K</td>\n",
              "      <td>Blue</td>\n",
              "      <td>25</td>\n",
              "      <td>4</td>\n",
              "      <td>2</td>\n",
              "      <td>3</td>\n",
              "      <td>4277.0</td>\n",
              "      <td>2186</td>\n",
              "      <td>2091.0</td>\n",
              "      <td>0.804</td>\n",
              "      <td>8764</td>\n",
              "      <td>69</td>\n",
              "      <td>0.683</td>\n",
              "      <td>0.511</td>\n",
              "    </tr>\n",
              "    <tr>\n",
              "      <th>10124</th>\n",
              "      <td>44</td>\n",
              "      <td>F</td>\n",
              "      <td>1</td>\n",
              "      <td>High School</td>\n",
              "      <td>Married</td>\n",
              "      <td>Less than $40K</td>\n",
              "      <td>Blue</td>\n",
              "      <td>36</td>\n",
              "      <td>5</td>\n",
              "      <td>3</td>\n",
              "      <td>4</td>\n",
              "      <td>5409.0</td>\n",
              "      <td>0</td>\n",
              "      <td>5409.0</td>\n",
              "      <td>0.819</td>\n",
              "      <td>10291</td>\n",
              "      <td>60</td>\n",
              "      <td>0.818</td>\n",
              "      <td>0.000</td>\n",
              "    </tr>\n",
              "    <tr>\n",
              "      <th>10125</th>\n",
              "      <td>30</td>\n",
              "      <td>M</td>\n",
              "      <td>2</td>\n",
              "      <td>Graduate</td>\n",
              "      <td>Unknown</td>\n",
              "      <td>$40K - $60K</td>\n",
              "      <td>Blue</td>\n",
              "      <td>36</td>\n",
              "      <td>4</td>\n",
              "      <td>3</td>\n",
              "      <td>3</td>\n",
              "      <td>5281.0</td>\n",
              "      <td>0</td>\n",
              "      <td>5281.0</td>\n",
              "      <td>0.535</td>\n",
              "      <td>8395</td>\n",
              "      <td>62</td>\n",
              "      <td>0.722</td>\n",
              "      <td>0.000</td>\n",
              "    </tr>\n",
              "    <tr>\n",
              "      <th>10126</th>\n",
              "      <td>43</td>\n",
              "      <td>F</td>\n",
              "      <td>2</td>\n",
              "      <td>Graduate</td>\n",
              "      <td>Married</td>\n",
              "      <td>Less than $40K</td>\n",
              "      <td>Silver</td>\n",
              "      <td>25</td>\n",
              "      <td>6</td>\n",
              "      <td>2</td>\n",
              "      <td>4</td>\n",
              "      <td>10388.0</td>\n",
              "      <td>1961</td>\n",
              "      <td>8427.0</td>\n",
              "      <td>0.703</td>\n",
              "      <td>10294</td>\n",
              "      <td>61</td>\n",
              "      <td>0.649</td>\n",
              "      <td>0.189</td>\n",
              "    </tr>\n",
              "  </tbody>\n",
              "</table>\n",
              "<p>10127 rows × 19 columns</p>\n",
              "</div>"
            ],
            "text/plain": [
              "       Customer_Age Gender  ...  Total_Ct_Chng_Q4_Q1 Avg_Utilization_Ratio\n",
              "0                45      M  ...                1.625                 0.061\n",
              "1                49      F  ...                3.714                 0.105\n",
              "2                51      M  ...                2.333                 0.000\n",
              "3                40      F  ...                2.333                 0.760\n",
              "4                40      M  ...                2.500                 0.000\n",
              "...             ...    ...  ...                  ...                   ...\n",
              "10122            50      M  ...                0.857                 0.462\n",
              "10123            41      M  ...                0.683                 0.511\n",
              "10124            44      F  ...                0.818                 0.000\n",
              "10125            30      M  ...                0.722                 0.000\n",
              "10126            43      F  ...                0.649                 0.189\n",
              "\n",
              "[10127 rows x 19 columns]"
            ]
          },
          "metadata": {},
          "execution_count": 6
        }
      ]
    },
    {
      "cell_type": "code",
      "metadata": {
        "colab": {
          "base_uri": "https://localhost:8080/"
        },
        "id": "L0qfie5-9qEs",
        "outputId": "65b587de-2f3b-4c76-c8c0-dee278d1957e"
      },
      "source": [
        "#Definindo o target (y) do nosso modelo\n",
        "y = df['Attrition_Flag']\n",
        "y"
      ],
      "execution_count": null,
      "outputs": [
        {
          "output_type": "execute_result",
          "data": {
            "text/plain": [
              "0        Existing Customer\n",
              "1        Existing Customer\n",
              "2        Existing Customer\n",
              "3        Existing Customer\n",
              "4        Existing Customer\n",
              "               ...        \n",
              "10122    Existing Customer\n",
              "10123    Attrited Customer\n",
              "10124    Attrited Customer\n",
              "10125    Attrited Customer\n",
              "10126    Attrited Customer\n",
              "Name: Attrition_Flag, Length: 10127, dtype: object"
            ]
          },
          "metadata": {},
          "execution_count": 7
        }
      ]
    },
    {
      "cell_type": "code",
      "metadata": {
        "colab": {
          "base_uri": "https://localhost:8080/",
          "height": 439
        },
        "id": "kCg0fF6O-KPj",
        "outputId": "6d5eab12-204e-4407-ec17-c09fcc2f2cee"
      },
      "source": [
        "#Transformando as colunas com valores categóricos para valores numéricos de acordo com o método factorize()\n",
        "stacked = X[['Gender','Education_Level', 'Marital_Status', 'Income_Category', 'Card_Category']].stack()\n",
        "X[['Gender','Education_Level', 'Marital_Status', 'Income_Category', 'Card_Category']] = pd.DataFrame(stacked.factorize()[0], index=stacked.index).unstack()\n",
        "X"
      ],
      "execution_count": null,
      "outputs": [
        {
          "output_type": "execute_result",
          "data": {
            "text/html": [
              "<div>\n",
              "<style scoped>\n",
              "    .dataframe tbody tr th:only-of-type {\n",
              "        vertical-align: middle;\n",
              "    }\n",
              "\n",
              "    .dataframe tbody tr th {\n",
              "        vertical-align: top;\n",
              "    }\n",
              "\n",
              "    .dataframe thead th {\n",
              "        text-align: right;\n",
              "    }\n",
              "</style>\n",
              "<table border=\"1\" class=\"dataframe\">\n",
              "  <thead>\n",
              "    <tr style=\"text-align: right;\">\n",
              "      <th></th>\n",
              "      <th>Customer_Age</th>\n",
              "      <th>Gender</th>\n",
              "      <th>Dependent_count</th>\n",
              "      <th>Education_Level</th>\n",
              "      <th>Marital_Status</th>\n",
              "      <th>Income_Category</th>\n",
              "      <th>Card_Category</th>\n",
              "      <th>Months_on_book</th>\n",
              "      <th>Total_Relationship_Count</th>\n",
              "      <th>Months_Inactive_12_mon</th>\n",
              "      <th>Contacts_Count_12_mon</th>\n",
              "      <th>Credit_Limit</th>\n",
              "      <th>Total_Revolving_Bal</th>\n",
              "      <th>Avg_Open_To_Buy</th>\n",
              "      <th>Total_Amt_Chng_Q4_Q1</th>\n",
              "      <th>Total_Trans_Amt</th>\n",
              "      <th>Total_Trans_Ct</th>\n",
              "      <th>Total_Ct_Chng_Q4_Q1</th>\n",
              "      <th>Avg_Utilization_Ratio</th>\n",
              "    </tr>\n",
              "  </thead>\n",
              "  <tbody>\n",
              "    <tr>\n",
              "      <th>0</th>\n",
              "      <td>45</td>\n",
              "      <td>0</td>\n",
              "      <td>3</td>\n",
              "      <td>1</td>\n",
              "      <td>2</td>\n",
              "      <td>3</td>\n",
              "      <td>4</td>\n",
              "      <td>39</td>\n",
              "      <td>5</td>\n",
              "      <td>1</td>\n",
              "      <td>3</td>\n",
              "      <td>12691.0</td>\n",
              "      <td>777</td>\n",
              "      <td>11914.0</td>\n",
              "      <td>1.335</td>\n",
              "      <td>1144</td>\n",
              "      <td>42</td>\n",
              "      <td>1.625</td>\n",
              "      <td>0.061</td>\n",
              "    </tr>\n",
              "    <tr>\n",
              "      <th>1</th>\n",
              "      <td>49</td>\n",
              "      <td>5</td>\n",
              "      <td>5</td>\n",
              "      <td>6</td>\n",
              "      <td>7</td>\n",
              "      <td>8</td>\n",
              "      <td>4</td>\n",
              "      <td>44</td>\n",
              "      <td>6</td>\n",
              "      <td>1</td>\n",
              "      <td>2</td>\n",
              "      <td>8256.0</td>\n",
              "      <td>864</td>\n",
              "      <td>7392.0</td>\n",
              "      <td>1.541</td>\n",
              "      <td>1291</td>\n",
              "      <td>33</td>\n",
              "      <td>3.714</td>\n",
              "      <td>0.105</td>\n",
              "    </tr>\n",
              "    <tr>\n",
              "      <th>2</th>\n",
              "      <td>51</td>\n",
              "      <td>0</td>\n",
              "      <td>3</td>\n",
              "      <td>6</td>\n",
              "      <td>2</td>\n",
              "      <td>9</td>\n",
              "      <td>4</td>\n",
              "      <td>36</td>\n",
              "      <td>4</td>\n",
              "      <td>1</td>\n",
              "      <td>0</td>\n",
              "      <td>3418.0</td>\n",
              "      <td>0</td>\n",
              "      <td>3418.0</td>\n",
              "      <td>2.594</td>\n",
              "      <td>1887</td>\n",
              "      <td>20</td>\n",
              "      <td>2.333</td>\n",
              "      <td>0.000</td>\n",
              "    </tr>\n",
              "    <tr>\n",
              "      <th>3</th>\n",
              "      <td>40</td>\n",
              "      <td>5</td>\n",
              "      <td>4</td>\n",
              "      <td>1</td>\n",
              "      <td>10</td>\n",
              "      <td>8</td>\n",
              "      <td>4</td>\n",
              "      <td>34</td>\n",
              "      <td>3</td>\n",
              "      <td>4</td>\n",
              "      <td>1</td>\n",
              "      <td>3313.0</td>\n",
              "      <td>2517</td>\n",
              "      <td>796.0</td>\n",
              "      <td>1.405</td>\n",
              "      <td>1171</td>\n",
              "      <td>20</td>\n",
              "      <td>2.333</td>\n",
              "      <td>0.760</td>\n",
              "    </tr>\n",
              "    <tr>\n",
              "      <th>4</th>\n",
              "      <td>40</td>\n",
              "      <td>0</td>\n",
              "      <td>3</td>\n",
              "      <td>11</td>\n",
              "      <td>2</td>\n",
              "      <td>3</td>\n",
              "      <td>4</td>\n",
              "      <td>21</td>\n",
              "      <td>5</td>\n",
              "      <td>1</td>\n",
              "      <td>0</td>\n",
              "      <td>4716.0</td>\n",
              "      <td>0</td>\n",
              "      <td>4716.0</td>\n",
              "      <td>2.175</td>\n",
              "      <td>816</td>\n",
              "      <td>28</td>\n",
              "      <td>2.500</td>\n",
              "      <td>0.000</td>\n",
              "    </tr>\n",
              "    <tr>\n",
              "      <th>...</th>\n",
              "      <td>...</td>\n",
              "      <td>...</td>\n",
              "      <td>...</td>\n",
              "      <td>...</td>\n",
              "      <td>...</td>\n",
              "      <td>...</td>\n",
              "      <td>...</td>\n",
              "      <td>...</td>\n",
              "      <td>...</td>\n",
              "      <td>...</td>\n",
              "      <td>...</td>\n",
              "      <td>...</td>\n",
              "      <td>...</td>\n",
              "      <td>...</td>\n",
              "      <td>...</td>\n",
              "      <td>...</td>\n",
              "      <td>...</td>\n",
              "      <td>...</td>\n",
              "      <td>...</td>\n",
              "    </tr>\n",
              "    <tr>\n",
              "      <th>10122</th>\n",
              "      <td>50</td>\n",
              "      <td>0</td>\n",
              "      <td>2</td>\n",
              "      <td>6</td>\n",
              "      <td>7</td>\n",
              "      <td>12</td>\n",
              "      <td>4</td>\n",
              "      <td>40</td>\n",
              "      <td>3</td>\n",
              "      <td>2</td>\n",
              "      <td>3</td>\n",
              "      <td>4003.0</td>\n",
              "      <td>1851</td>\n",
              "      <td>2152.0</td>\n",
              "      <td>0.703</td>\n",
              "      <td>15476</td>\n",
              "      <td>117</td>\n",
              "      <td>0.857</td>\n",
              "      <td>0.462</td>\n",
              "    </tr>\n",
              "    <tr>\n",
              "      <th>10123</th>\n",
              "      <td>41</td>\n",
              "      <td>0</td>\n",
              "      <td>2</td>\n",
              "      <td>10</td>\n",
              "      <td>19</td>\n",
              "      <td>12</td>\n",
              "      <td>4</td>\n",
              "      <td>25</td>\n",
              "      <td>4</td>\n",
              "      <td>2</td>\n",
              "      <td>3</td>\n",
              "      <td>4277.0</td>\n",
              "      <td>2186</td>\n",
              "      <td>2091.0</td>\n",
              "      <td>0.804</td>\n",
              "      <td>8764</td>\n",
              "      <td>69</td>\n",
              "      <td>0.683</td>\n",
              "      <td>0.511</td>\n",
              "    </tr>\n",
              "    <tr>\n",
              "      <th>10124</th>\n",
              "      <td>44</td>\n",
              "      <td>5</td>\n",
              "      <td>1</td>\n",
              "      <td>1</td>\n",
              "      <td>2</td>\n",
              "      <td>8</td>\n",
              "      <td>4</td>\n",
              "      <td>36</td>\n",
              "      <td>5</td>\n",
              "      <td>3</td>\n",
              "      <td>4</td>\n",
              "      <td>5409.0</td>\n",
              "      <td>0</td>\n",
              "      <td>5409.0</td>\n",
              "      <td>0.819</td>\n",
              "      <td>10291</td>\n",
              "      <td>60</td>\n",
              "      <td>0.818</td>\n",
              "      <td>0.000</td>\n",
              "    </tr>\n",
              "    <tr>\n",
              "      <th>10125</th>\n",
              "      <td>30</td>\n",
              "      <td>0</td>\n",
              "      <td>2</td>\n",
              "      <td>6</td>\n",
              "      <td>10</td>\n",
              "      <td>12</td>\n",
              "      <td>4</td>\n",
              "      <td>36</td>\n",
              "      <td>4</td>\n",
              "      <td>3</td>\n",
              "      <td>3</td>\n",
              "      <td>5281.0</td>\n",
              "      <td>0</td>\n",
              "      <td>5281.0</td>\n",
              "      <td>0.535</td>\n",
              "      <td>8395</td>\n",
              "      <td>62</td>\n",
              "      <td>0.722</td>\n",
              "      <td>0.000</td>\n",
              "    </tr>\n",
              "    <tr>\n",
              "      <th>10126</th>\n",
              "      <td>43</td>\n",
              "      <td>5</td>\n",
              "      <td>2</td>\n",
              "      <td>6</td>\n",
              "      <td>2</td>\n",
              "      <td>8</td>\n",
              "      <td>15</td>\n",
              "      <td>25</td>\n",
              "      <td>6</td>\n",
              "      <td>2</td>\n",
              "      <td>4</td>\n",
              "      <td>10388.0</td>\n",
              "      <td>1961</td>\n",
              "      <td>8427.0</td>\n",
              "      <td>0.703</td>\n",
              "      <td>10294</td>\n",
              "      <td>61</td>\n",
              "      <td>0.649</td>\n",
              "      <td>0.189</td>\n",
              "    </tr>\n",
              "  </tbody>\n",
              "</table>\n",
              "<p>10127 rows × 19 columns</p>\n",
              "</div>"
            ],
            "text/plain": [
              "       Customer_Age  Gender  ...  Total_Ct_Chng_Q4_Q1  Avg_Utilization_Ratio\n",
              "0                45       0  ...                1.625                  0.061\n",
              "1                49       5  ...                3.714                  0.105\n",
              "2                51       0  ...                2.333                  0.000\n",
              "3                40       5  ...                2.333                  0.760\n",
              "4                40       0  ...                2.500                  0.000\n",
              "...             ...     ...  ...                  ...                    ...\n",
              "10122            50       0  ...                0.857                  0.462\n",
              "10123            41       0  ...                0.683                  0.511\n",
              "10124            44       5  ...                0.818                  0.000\n",
              "10125            30       0  ...                0.722                  0.000\n",
              "10126            43       5  ...                0.649                  0.189\n",
              "\n",
              "[10127 rows x 19 columns]"
            ]
          },
          "metadata": {},
          "execution_count": 8
        }
      ]
    },
    {
      "cell_type": "code",
      "metadata": {
        "id": "rnXGr9Y--XPx"
      },
      "source": [
        "#Dividimos as features e targets em dados de treino e teste\n",
        "X_train, X_test,y_train, y_test = train_test_split(X, y)"
      ],
      "execution_count": null,
      "outputs": []
    },
    {
      "cell_type": "code",
      "metadata": {
        "colab": {
          "base_uri": "https://localhost:8080/"
        },
        "id": "IRPyw1OJ-44C",
        "outputId": "9839062d-d854-45af-cc0a-4f1691218163"
      },
      "source": [
        "#Criamos nosso modelo svm, representada pelo método SVC, e definimos nossa função kernel como rbf (função de base radial)\n",
        "modelo = svm.SVC(kernel='rbf')\n",
        "\n",
        "#Treinamos nosso modelo com as features e targets passadas como treino\n",
        "modelo = modelo.fit(X_train, y_train)\n",
        "\n",
        "#E testamos a acurácia do nosso modelo através dos dados passados como teste\n",
        "modelo.score(X_test, y_test)"
      ],
      "execution_count": null,
      "outputs": [
        {
          "output_type": "execute_result",
          "data": {
            "text/plain": [
              "0.8372827804107424"
            ]
          },
          "metadata": {},
          "execution_count": 10
        }
      ]
    },
    {
      "cell_type": "markdown",
      "metadata": {
        "id": "JrIJ8cDAvwms"
      },
      "source": [
        "O tipo de kernel escolhido que retornou melhor resultado foi o 'rbf' e por isso optamos pela sua utilização.\n",
        "\n",
        "De acordo com o método .score, nosso modelo svm retornou uma porcentagem de \n",
        "83,7% de acerto, o que pode ser considerado uma boa porcentagem."
      ]
    },
    {
      "cell_type": "code",
      "metadata": {
        "colab": {
          "base_uri": "https://localhost:8080/"
        },
        "id": "ewaBqIyGAcdm",
        "outputId": "e962497f-06af-449c-b104-d15940849018"
      },
      "source": [
        "#Botaremos numa variável y_pred os resultados das predições do nosso modelo com relação as features passadas como teste\n",
        "y_pred = modelo.predict(X_test)\n",
        "\n",
        "#Agora mediremos o quão preciso é nosso modelo através das métricas F1 score, precision ,recall e accuracy\n",
        "print(\"F1 score:\", f1_score(y_test, y_pred, average='micro'))\n",
        "print(\"precision score:\", precision_score(y_test, y_pred, average='micro'))\n",
        "print(\"recall score:\", recall_score(y_test, y_pred, average='micro'))\n",
        "print(\"accuracy score:\", accuracy_score(y_test, y_pred))"
      ],
      "execution_count": null,
      "outputs": [
        {
          "output_type": "stream",
          "name": "stdout",
          "text": [
            "F1 score: 0.8372827804107424\n",
            "precision score: 0.8372827804107424\n",
            "recall score: 0.8372827804107424\n",
            "accuracy score: 0.8372827804107424\n"
          ]
        }
      ]
    },
    {
      "cell_type": "markdown",
      "metadata": {
        "id": "yeopGFUbwPxM"
      },
      "source": [
        "As quatro bibliotecas retornaram a mesma porcentagem uq eo modelo .score retornou: 83,7%\n",
        "\n",
        "Logo, podemos acreditar que o nosso modelo svm criado é um bom modelo, correto?\n"
      ]
    },
    {
      "cell_type": "code",
      "metadata": {
        "id": "Om6wXNiWlE3T",
        "colab": {
          "base_uri": "https://localhost:8080/"
        },
        "outputId": "8889b501-dbab-4d96-c173-bfc7d882a638"
      },
      "source": [
        "#Faremos também uma matriz de confusão\n",
        "mc = confusion_matrix(y_test, y_pred)\n",
        "print(mc)"
      ],
      "execution_count": null,
      "outputs": [
        {
          "output_type": "stream",
          "name": "stdout",
          "text": [
            "[[   0  412]\n",
            " [   0 2120]]\n"
          ]
        }
      ]
    },
    {
      "cell_type": "markdown",
      "metadata": {
        "id": "qysuLBA9wiep"
      },
      "source": [
        "Na verdade não. Pois como podemos ver acima, utilizamos uma matriz de confusão para nos retornar a quantidade de acertos e erros de clientes em cada classe e o resultado foi o seguinte: 2120 clientes corretamente classificados como não-churners, 412 clientes erroneamente classificados como não-churners, e os outros dois números são iguais a zero.\n",
        "\n",
        "Isso significa que nosso modelo retornou que TODOS os clientes entre os dados passados como teste são da classe nã-churners, e acabou sendo retornado um acerto de 83,7% pois essa é a razão entre a quantidade de clientes da classe dos não churners e a quantidade total de clientes entre os dados testados.\n",
        "\n",
        "Nosso modelo svm então, não é um bom modelo e não deve ser recomendado para outras pessoas. Nós mantemos esse modelo no trabalho porque achamos legal mostrar que nem sempre um modelo desses irá funcionar, apesar do svm ser um grande modelo amplamente utilizado para situações envolvendo machine learning. E para mostrar também como chegamos a conclusão de que o modelo não funciona."
      ]
    },
    {
      "cell_type": "code",
      "metadata": {
        "colab": {
          "base_uri": "https://localhost:8080/"
        },
        "id": "xqpE548kCN_K",
        "outputId": "dc32550f-b8bb-44e0-aab7-1354239254a2"
      },
      "source": [
        "#Vamos persistir nosso modelo, salvando-o num arquivo.\n",
        "joblib.dump(modelo, 'svm_joblib')"
      ],
      "execution_count": null,
      "outputs": [
        {
          "output_type": "execute_result",
          "data": {
            "text/plain": [
              "['svm_joblib']"
            ]
          },
          "metadata": {},
          "execution_count": 115
        }
      ]
    },
    {
      "cell_type": "code",
      "metadata": {
        "colab": {
          "base_uri": "https://localhost:8080/"
        },
        "id": "fr-dKAmoDK9w",
        "outputId": "5ff94308-6ef0-4b0c-f288-60febf9fb07c"
      },
      "source": [
        "#Agora podemos carregar o arquivo do modelo e aplicar uma variável para receber seu valor\n",
        "clf = load('svm_joblib')\n",
        "clf.predict(X[0:5])"
      ],
      "execution_count": null,
      "outputs": [
        {
          "output_type": "execute_result",
          "data": {
            "text/plain": [
              "array(['Existing Customer', 'Existing Customer', 'Existing Customer',\n",
              "       'Existing Customer', 'Existing Customer'], dtype=object)"
            ]
          },
          "metadata": {},
          "execution_count": 116
        }
      ]
    },
    {
      "cell_type": "markdown",
      "metadata": {
        "id": "5AISUO0AxdBa"
      },
      "source": [
        "#Aprendizado não supervisionado (k-means)"
      ]
    },
    {
      "cell_type": "markdown",
      "metadata": {
        "id": "65PmT81PkuLO"
      },
      "source": [
        "Para o aprendizado não supervisionado utilizaremos o k-means, um algoritmo de agrupamento baseado nas features comuns entre os grupos.\n",
        "\n",
        "A partir de um número de clusters(grupos), o algoritmo cria um centro para os cluster(centroides) e tenta anexar pontos aleatórios à centroide mais proxima. Depois disso reposiciona-se a centroide, em media da posição dos pontos do cluster e se repete estes até a posição ideal dos clusters(quando e media da posição dos pontos for o centro da centroide)."
      ]
    },
    {
      "cell_type": "code",
      "metadata": {
        "id": "mKQ6cyWvy7rQ"
      },
      "source": [
        "#Importando as bibliotecas\n",
        "from sklearn.cluster import KMeans\n",
        "from sklearn import preprocessing\n",
        "from sklearn.preprocessing import StandardScaler"
      ],
      "execution_count": null,
      "outputs": []
    },
    {
      "cell_type": "code",
      "metadata": {
        "id": "bZPGNehUXCPo"
      },
      "source": [
        "#Criamos uma copia do nosso dataframe e definimos as features (X) do nosso modelo\n",
        "X = df.copy()\n",
        "X.drop(columns=['Gender'], inplace=True)\n",
        "stacked = X[['Education_Level', 'Marital_Status', 'Income_Category', 'Card_Category']].stack()\n",
        "X[['Education_Level', 'Marital_Status', 'Income_Category', 'Card_Category']] = pd.DataFrame(stacked.factorize()[0], index=stacked.index).unstack()\n",
        "X['Attrition_Flag'] = X['Attrition_Flag'].replace({'Existing Customer': 0, 'Attrited Customer': 1})\n",
        "X\n",
        "\n",
        "df_kmeans = X.copy()"
      ],
      "execution_count": null,
      "outputs": []
    },
    {
      "cell_type": "code",
      "metadata": {
        "colab": {
          "base_uri": "https://localhost:8080/"
        },
        "id": "D84MTlISy9iX",
        "outputId": "70ae2fe3-1522-4843-b6bc-0d24ac708fdb"
      },
      "source": [
        "#Transformamos os dados para a StandardScaler\n",
        "X = preprocessing.StandardScaler().fit(X).transform(X.astype(float))\n",
        "X"
      ],
      "execution_count": null,
      "outputs": [
        {
          "output_type": "execute_result",
          "data": {
            "text/plain": [
              "array([[ 1.13542484, -0.4375063 , -0.16540558, ..., -0.97389518,\n",
              "         3.8340026 , -0.77588223],\n",
              "       [ 1.13542484, -0.4375063 ,  0.33357038, ..., -1.35734038,\n",
              "        12.60857291, -0.61627565],\n",
              "       [ 1.13542484, -0.4375063 ,  0.58305837, ..., -1.91120566,\n",
              "         6.80786367, -0.99715499],\n",
              "       ...,\n",
              "       [-0.88234222,  2.28568136, -0.29014957, ..., -0.20700479,\n",
              "         0.44430503, -0.99715499],\n",
              "       [-0.88234222,  2.28568136, -2.03656544, ..., -0.12179474,\n",
              "         0.04106963, -0.99715499],\n",
              "       [-1.68944904,  2.28568136, -0.41489356, ..., -0.16439977,\n",
              "        -0.26555729, -0.31157218]])"
            ]
          },
          "metadata": {},
          "execution_count": 41
        }
      ]
    },
    {
      "cell_type": "code",
      "metadata": {
        "id": "Dgpg8EUQ0vV6"
      },
      "source": [
        "#Achamos o numero ideal de clusters\n",
        "TWSS = []\n",
        "K = []\n",
        "for k in range(1,20):\n",
        "  k_means = KMeans(n_clusters=k)\n",
        "  k_means.fit(X)\n",
        "  TWSS.append(k_means.inertia_)\n",
        "  K.append(k)"
      ],
      "execution_count": null,
      "outputs": []
    },
    {
      "cell_type": "code",
      "metadata": {
        "colab": {
          "base_uri": "https://localhost:8080/",
          "height": 297
        },
        "id": "arGaHcEk04mn",
        "outputId": "d5defec3-1cd3-4ed5-8754-8766b2b31017"
      },
      "source": [
        "#Grafico\n",
        "plt.plot(K, TWSS, 'ko--')\n",
        "plt.xlabel('k')\n",
        "plt.ylabel('Total Within Sum of Square')\n",
        "plt.plot([10,10], [min(TWSS),max(TWSS)], 'k')"
      ],
      "execution_count": null,
      "outputs": [
        {
          "output_type": "execute_result",
          "data": {
            "text/plain": [
              "[<matplotlib.lines.Line2D at 0x7f7ddecec490>]"
            ]
          },
          "metadata": {},
          "execution_count": 35
        },
        {
          "output_type": "display_data",
          "data": {
            "image/png": "[encoded data removed]",
            "text/plain": [
              "<Figure size 432x288 with 1 Axes>"
            ]
          },
          "metadata": {
            "needs_background": "light"
          }
        }
      ]
    },
    {
      "cell_type": "markdown",
      "metadata": {
        "id": "lwzw25ogHkKv"
      },
      "source": [
        "O 'k_means.inertia' é utilizado para achar o número ideal de cluster, a partir do metodo 'joelho'\n",
        "\n",
        "Analisando o gráfico, deduzimos que o ponto 'joelho' seria 10, utilizamos então 10 cluster para a análise."
      ]
    },
    {
      "cell_type": "code",
      "metadata": {
        "colab": {
          "base_uri": "https://localhost:8080/"
        },
        "id": "dn9yLtwXy-rY",
        "outputId": "e8d9d5a1-4454-47fa-a397-d0e38ec1dc81"
      },
      "source": [
        "#Criamos um modelo para 10 clusters\n",
        "k_means = KMeans(n_clusters = 10)\n",
        "k_means.fit(X)"
      ],
      "execution_count": null,
      "outputs": [
        {
          "output_type": "execute_result",
          "data": {
            "text/plain": [
              "KMeans(n_clusters=10)"
            ]
          },
          "metadata": {},
          "execution_count": 36
        }
      ]
    },
    {
      "cell_type": "code",
      "metadata": {
        "colab": {
          "base_uri": "https://localhost:8080/"
        },
        "id": "W7lQHS0sy_3X",
        "outputId": "0cd95a6c-03c8-4415-f945-bb87e18f868b"
      },
      "source": [
        "#Separamos os nossos dados em grupos\n",
        "k_means.labels_"
      ],
      "execution_count": null,
      "outputs": [
        {
          "output_type": "execute_result",
          "data": {
            "text/plain": [
              "array([7, 7, 7, ..., 2, 2, 0], dtype=int32)"
            ]
          },
          "metadata": {},
          "execution_count": 37
        }
      ]
    },
    {
      "cell_type": "code",
      "metadata": {
        "colab": {
          "base_uri": "https://localhost:8080/",
          "height": 444
        },
        "id": "EUu2JxDQZxR-",
        "outputId": "1ab16322-1613-4cd2-f825-c431d038d28b"
      },
      "source": [
        "#Inserimos os grupo na tabela como \"Grupo\"\n",
        "df_kmeans['Grupo'] = k_means.labels_\n",
        "df_kmeans"
      ],
      "execution_count": null,
      "outputs": [
        {
          "output_type": "execute_result",
          "data": {
            "text/html": [
              "<div>\n",
              "<style scoped>\n",
              "    .dataframe tbody tr th:only-of-type {\n",
              "        vertical-align: middle;\n",
              "    }\n",
              "\n",
              "    .dataframe tbody tr th {\n",
              "        vertical-align: top;\n",
              "    }\n",
              "\n",
              "    .dataframe thead th {\n",
              "        text-align: right;\n",
              "    }\n",
              "</style>\n",
              "<table border=\"1\" class=\"dataframe\">\n",
              "  <thead>\n",
              "    <tr style=\"text-align: right;\">\n",
              "      <th></th>\n",
              "      <th>Grupo</th>\n",
              "      <th>Attrition_Flag</th>\n",
              "      <th>Customer_Age</th>\n",
              "      <th>Dependent_count</th>\n",
              "      <th>Education_Level</th>\n",
              "      <th>Marital_Status</th>\n",
              "      <th>Income_Category</th>\n",
              "      <th>Card_Category</th>\n",
              "      <th>Months_on_book</th>\n",
              "      <th>Total_Relationship_Count</th>\n",
              "      <th>Months_Inactive_12_mon</th>\n",
              "      <th>Contacts_Count_12_mon</th>\n",
              "      <th>Credit_Limit</th>\n",
              "      <th>Total_Revolving_Bal</th>\n",
              "      <th>Avg_Open_To_Buy</th>\n",
              "      <th>Total_Amt_Chng_Q4_Q1</th>\n",
              "      <th>Total_Trans_Amt</th>\n",
              "      <th>Total_Trans_Ct</th>\n",
              "      <th>Total_Ct_Chng_Q4_Q1</th>\n",
              "      <th>Avg_Utilization_Ratio</th>\n",
              "    </tr>\n",
              "  </thead>\n",
              "  <tbody>\n",
              "    <tr>\n",
              "      <th>0</th>\n",
              "      <td>7</td>\n",
              "      <td>0</td>\n",
              "      <td>45</td>\n",
              "      <td>3</td>\n",
              "      <td>0</td>\n",
              "      <td>1</td>\n",
              "      <td>2</td>\n",
              "      <td>3</td>\n",
              "      <td>39</td>\n",
              "      <td>5</td>\n",
              "      <td>1</td>\n",
              "      <td>3</td>\n",
              "      <td>12691.0</td>\n",
              "      <td>777</td>\n",
              "      <td>11914.0</td>\n",
              "      <td>1.335</td>\n",
              "      <td>1144</td>\n",
              "      <td>42</td>\n",
              "      <td>1.625</td>\n",
              "      <td>0.061</td>\n",
              "    </tr>\n",
              "    <tr>\n",
              "      <th>1</th>\n",
              "      <td>7</td>\n",
              "      <td>0</td>\n",
              "      <td>49</td>\n",
              "      <td>5</td>\n",
              "      <td>4</td>\n",
              "      <td>5</td>\n",
              "      <td>6</td>\n",
              "      <td>3</td>\n",
              "      <td>44</td>\n",
              "      <td>6</td>\n",
              "      <td>1</td>\n",
              "      <td>2</td>\n",
              "      <td>8256.0</td>\n",
              "      <td>864</td>\n",
              "      <td>7392.0</td>\n",
              "      <td>1.541</td>\n",
              "      <td>1291</td>\n",
              "      <td>33</td>\n",
              "      <td>3.714</td>\n",
              "      <td>0.105</td>\n",
              "    </tr>\n",
              "    <tr>\n",
              "      <th>2</th>\n",
              "      <td>7</td>\n",
              "      <td>0</td>\n",
              "      <td>51</td>\n",
              "      <td>3</td>\n",
              "      <td>4</td>\n",
              "      <td>1</td>\n",
              "      <td>7</td>\n",
              "      <td>3</td>\n",
              "      <td>36</td>\n",
              "      <td>4</td>\n",
              "      <td>1</td>\n",
              "      <td>0</td>\n",
              "      <td>3418.0</td>\n",
              "      <td>0</td>\n",
              "      <td>3418.0</td>\n",
              "      <td>2.594</td>\n",
              "      <td>1887</td>\n",
              "      <td>20</td>\n",
              "      <td>2.333</td>\n",
              "      <td>0.000</td>\n",
              "    </tr>\n",
              "    <tr>\n",
              "      <th>3</th>\n",
              "      <td>7</td>\n",
              "      <td>0</td>\n",
              "      <td>40</td>\n",
              "      <td>4</td>\n",
              "      <td>0</td>\n",
              "      <td>8</td>\n",
              "      <td>6</td>\n",
              "      <td>3</td>\n",
              "      <td>34</td>\n",
              "      <td>3</td>\n",
              "      <td>4</td>\n",
              "      <td>1</td>\n",
              "      <td>3313.0</td>\n",
              "      <td>2517</td>\n",
              "      <td>796.0</td>\n",
              "      <td>1.405</td>\n",
              "      <td>1171</td>\n",
              "      <td>20</td>\n",
              "      <td>2.333</td>\n",
              "      <td>0.760</td>\n",
              "    </tr>\n",
              "    <tr>\n",
              "      <th>4</th>\n",
              "      <td>7</td>\n",
              "      <td>0</td>\n",
              "      <td>40</td>\n",
              "      <td>3</td>\n",
              "      <td>9</td>\n",
              "      <td>1</td>\n",
              "      <td>2</td>\n",
              "      <td>3</td>\n",
              "      <td>21</td>\n",
              "      <td>5</td>\n",
              "      <td>1</td>\n",
              "      <td>0</td>\n",
              "      <td>4716.0</td>\n",
              "      <td>0</td>\n",
              "      <td>4716.0</td>\n",
              "      <td>2.175</td>\n",
              "      <td>816</td>\n",
              "      <td>28</td>\n",
              "      <td>2.500</td>\n",
              "      <td>0.000</td>\n",
              "    </tr>\n",
              "    <tr>\n",
              "      <th>...</th>\n",
              "      <td>...</td>\n",
              "      <td>...</td>\n",
              "      <td>...</td>\n",
              "      <td>...</td>\n",
              "      <td>...</td>\n",
              "      <td>...</td>\n",
              "      <td>...</td>\n",
              "      <td>...</td>\n",
              "      <td>...</td>\n",
              "      <td>...</td>\n",
              "      <td>...</td>\n",
              "      <td>...</td>\n",
              "      <td>...</td>\n",
              "      <td>...</td>\n",
              "      <td>...</td>\n",
              "      <td>...</td>\n",
              "      <td>...</td>\n",
              "      <td>...</td>\n",
              "      <td>...</td>\n",
              "      <td>...</td>\n",
              "    </tr>\n",
              "    <tr>\n",
              "      <th>10122</th>\n",
              "      <td>1</td>\n",
              "      <td>0</td>\n",
              "      <td>50</td>\n",
              "      <td>2</td>\n",
              "      <td>4</td>\n",
              "      <td>5</td>\n",
              "      <td>10</td>\n",
              "      <td>3</td>\n",
              "      <td>40</td>\n",
              "      <td>3</td>\n",
              "      <td>2</td>\n",
              "      <td>3</td>\n",
              "      <td>4003.0</td>\n",
              "      <td>1851</td>\n",
              "      <td>2152.0</td>\n",
              "      <td>0.703</td>\n",
              "      <td>15476</td>\n",
              "      <td>117</td>\n",
              "      <td>0.857</td>\n",
              "      <td>0.462</td>\n",
              "    </tr>\n",
              "    <tr>\n",
              "      <th>10123</th>\n",
              "      <td>9</td>\n",
              "      <td>1</td>\n",
              "      <td>41</td>\n",
              "      <td>2</td>\n",
              "      <td>8</td>\n",
              "      <td>17</td>\n",
              "      <td>10</td>\n",
              "      <td>3</td>\n",
              "      <td>25</td>\n",
              "      <td>4</td>\n",
              "      <td>2</td>\n",
              "      <td>3</td>\n",
              "      <td>4277.0</td>\n",
              "      <td>2186</td>\n",
              "      <td>2091.0</td>\n",
              "      <td>0.804</td>\n",
              "      <td>8764</td>\n",
              "      <td>69</td>\n",
              "      <td>0.683</td>\n",
              "      <td>0.511</td>\n",
              "    </tr>\n",
              "    <tr>\n",
              "      <th>10124</th>\n",
              "      <td>2</td>\n",
              "      <td>1</td>\n",
              "      <td>44</td>\n",
              "      <td>1</td>\n",
              "      <td>0</td>\n",
              "      <td>1</td>\n",
              "      <td>6</td>\n",
              "      <td>3</td>\n",
              "      <td>36</td>\n",
              "      <td>5</td>\n",
              "      <td>3</td>\n",
              "      <td>4</td>\n",
              "      <td>5409.0</td>\n",
              "      <td>0</td>\n",
              "      <td>5409.0</td>\n",
              "      <td>0.819</td>\n",
              "      <td>10291</td>\n",
              "      <td>60</td>\n",
              "      <td>0.818</td>\n",
              "      <td>0.000</td>\n",
              "    </tr>\n",
              "    <tr>\n",
              "      <th>10125</th>\n",
              "      <td>2</td>\n",
              "      <td>1</td>\n",
              "      <td>30</td>\n",
              "      <td>2</td>\n",
              "      <td>4</td>\n",
              "      <td>8</td>\n",
              "      <td>10</td>\n",
              "      <td>3</td>\n",
              "      <td>36</td>\n",
              "      <td>4</td>\n",
              "      <td>3</td>\n",
              "      <td>3</td>\n",
              "      <td>5281.0</td>\n",
              "      <td>0</td>\n",
              "      <td>5281.0</td>\n",
              "      <td>0.535</td>\n",
              "      <td>8395</td>\n",
              "      <td>62</td>\n",
              "      <td>0.722</td>\n",
              "      <td>0.000</td>\n",
              "    </tr>\n",
              "    <tr>\n",
              "      <th>10126</th>\n",
              "      <td>0</td>\n",
              "      <td>1</td>\n",
              "      <td>43</td>\n",
              "      <td>2</td>\n",
              "      <td>4</td>\n",
              "      <td>1</td>\n",
              "      <td>6</td>\n",
              "      <td>13</td>\n",
              "      <td>25</td>\n",
              "      <td>6</td>\n",
              "      <td>2</td>\n",
              "      <td>4</td>\n",
              "      <td>10388.0</td>\n",
              "      <td>1961</td>\n",
              "      <td>8427.0</td>\n",
              "      <td>0.703</td>\n",
              "      <td>10294</td>\n",
              "      <td>61</td>\n",
              "      <td>0.649</td>\n",
              "      <td>0.189</td>\n",
              "    </tr>\n",
              "  </tbody>\n",
              "</table>\n",
              "<p>10127 rows × 20 columns</p>\n",
              "</div>"
            ],
            "text/plain": [
              "       Grupo  Attrition_Flag  ...  Total_Ct_Chng_Q4_Q1  Avg_Utilization_Ratio\n",
              "0          7               0  ...                1.625                  0.061\n",
              "1          7               0  ...                3.714                  0.105\n",
              "2          7               0  ...                2.333                  0.000\n",
              "3          7               0  ...                2.333                  0.760\n",
              "4          7               0  ...                2.500                  0.000\n",
              "...      ...             ...  ...                  ...                    ...\n",
              "10122      1               0  ...                0.857                  0.462\n",
              "10123      9               1  ...                0.683                  0.511\n",
              "10124      2               1  ...                0.818                  0.000\n",
              "10125      2               1  ...                0.722                  0.000\n",
              "10126      0               1  ...                0.649                  0.189\n",
              "\n",
              "[10127 rows x 20 columns]"
            ]
          },
          "metadata": {},
          "execution_count": 43
        }
      ]
    },
    {
      "cell_type": "code",
      "metadata": {
        "colab": {
          "base_uri": "https://localhost:8080/",
          "height": 414
        },
        "id": "qSK0ssoU1Iwu",
        "outputId": "70a7e43f-f3a6-458f-9550-420f6bd8b81b"
      },
      "source": [
        "#Fizemos a média das features para cada grupo\n",
        "df_kmeans.groupby(by='Grupo').mean()"
      ],
      "execution_count": null,
      "outputs": [
        {
          "output_type": "execute_result",
          "data": {
            "text/html": [
              "<div>\n",
              "<style scoped>\n",
              "    .dataframe tbody tr th:only-of-type {\n",
              "        vertical-align: middle;\n",
              "    }\n",
              "\n",
              "    .dataframe tbody tr th {\n",
              "        vertical-align: top;\n",
              "    }\n",
              "\n",
              "    .dataframe thead th {\n",
              "        text-align: right;\n",
              "    }\n",
              "</style>\n",
              "<table border=\"1\" class=\"dataframe\">\n",
              "  <thead>\n",
              "    <tr style=\"text-align: right;\">\n",
              "      <th></th>\n",
              "      <th>Attrition_Flag</th>\n",
              "      <th>Customer_Age</th>\n",
              "      <th>Dependent_count</th>\n",
              "      <th>Education_Level</th>\n",
              "      <th>Marital_Status</th>\n",
              "      <th>Income_Category</th>\n",
              "      <th>Card_Category</th>\n",
              "      <th>Months_on_book</th>\n",
              "      <th>Total_Relationship_Count</th>\n",
              "      <th>Months_Inactive_12_mon</th>\n",
              "      <th>Contacts_Count_12_mon</th>\n",
              "      <th>Credit_Limit</th>\n",
              "      <th>Total_Revolving_Bal</th>\n",
              "      <th>Avg_Open_To_Buy</th>\n",
              "      <th>Total_Amt_Chng_Q4_Q1</th>\n",
              "      <th>Total_Trans_Amt</th>\n",
              "      <th>Total_Trans_Ct</th>\n",
              "      <th>Total_Ct_Chng_Q4_Q1</th>\n",
              "      <th>Avg_Utilization_Ratio</th>\n",
              "    </tr>\n",
              "    <tr>\n",
              "      <th>Grupo</th>\n",
              "      <th></th>\n",
              "      <th></th>\n",
              "      <th></th>\n",
              "      <th></th>\n",
              "      <th></th>\n",
              "      <th></th>\n",
              "      <th></th>\n",
              "      <th></th>\n",
              "      <th></th>\n",
              "      <th></th>\n",
              "      <th></th>\n",
              "      <th></th>\n",
              "      <th></th>\n",
              "      <th></th>\n",
              "      <th></th>\n",
              "      <th></th>\n",
              "      <th></th>\n",
              "      <th></th>\n",
              "      <th></th>\n",
              "    </tr>\n",
              "  </thead>\n",
              "  <tbody>\n",
              "    <tr>\n",
              "      <th>0</th>\n",
              "      <td>0.153383</td>\n",
              "      <td>45.615038</td>\n",
              "      <td>2.511278</td>\n",
              "      <td>6.732331</td>\n",
              "      <td>4.663158</td>\n",
              "      <td>6.909774</td>\n",
              "      <td>12.980451</td>\n",
              "      <td>35.371429</td>\n",
              "      <td>3.324812</td>\n",
              "      <td>2.276692</td>\n",
              "      <td>2.451128</td>\n",
              "      <td>26418.320301</td>\n",
              "      <td>1222.505263</td>\n",
              "      <td>25195.815038</td>\n",
              "      <td>0.760850</td>\n",
              "      <td>6835.436090</td>\n",
              "      <td>76.514286</td>\n",
              "      <td>0.698901</td>\n",
              "      <td>0.054093</td>\n",
              "    </tr>\n",
              "    <tr>\n",
              "      <th>1</th>\n",
              "      <td>0.005369</td>\n",
              "      <td>45.535570</td>\n",
              "      <td>2.259060</td>\n",
              "      <td>6.432215</td>\n",
              "      <td>4.170470</td>\n",
              "      <td>6.771812</td>\n",
              "      <td>3.130201</td>\n",
              "      <td>35.253691</td>\n",
              "      <td>2.194631</td>\n",
              "      <td>2.204027</td>\n",
              "      <td>2.151678</td>\n",
              "      <td>10987.747651</td>\n",
              "      <td>1398.789262</td>\n",
              "      <td>9588.958389</td>\n",
              "      <td>0.772804</td>\n",
              "      <td>13417.102013</td>\n",
              "      <td>106.789262</td>\n",
              "      <td>0.732411</td>\n",
              "      <td>0.204162</td>\n",
              "    </tr>\n",
              "    <tr>\n",
              "      <th>2</th>\n",
              "      <td>0.999161</td>\n",
              "      <td>46.960570</td>\n",
              "      <td>2.458054</td>\n",
              "      <td>6.838087</td>\n",
              "      <td>3.903523</td>\n",
              "      <td>6.872483</td>\n",
              "      <td>3.041946</td>\n",
              "      <td>36.509228</td>\n",
              "      <td>3.226510</td>\n",
              "      <td>2.748322</td>\n",
              "      <td>3.023490</td>\n",
              "      <td>5616.924832</td>\n",
              "      <td>424.846477</td>\n",
              "      <td>5192.078356</td>\n",
              "      <td>0.669556</td>\n",
              "      <td>2654.857383</td>\n",
              "      <td>42.526007</td>\n",
              "      <td>0.522027</td>\n",
              "      <td>0.106256</td>\n",
              "    </tr>\n",
              "    <tr>\n",
              "      <th>3</th>\n",
              "      <td>0.037137</td>\n",
              "      <td>46.210980</td>\n",
              "      <td>3.046825</td>\n",
              "      <td>6.300323</td>\n",
              "      <td>3.348224</td>\n",
              "      <td>6.801399</td>\n",
              "      <td>3.000000</td>\n",
              "      <td>35.831001</td>\n",
              "      <td>3.675457</td>\n",
              "      <td>2.397740</td>\n",
              "      <td>2.153391</td>\n",
              "      <td>3329.966631</td>\n",
              "      <td>1696.582347</td>\n",
              "      <td>1633.384284</td>\n",
              "      <td>0.740360</td>\n",
              "      <td>4294.066200</td>\n",
              "      <td>72.231432</td>\n",
              "      <td>0.749095</td>\n",
              "      <td>0.584009</td>\n",
              "    </tr>\n",
              "    <tr>\n",
              "      <th>4</th>\n",
              "      <td>0.001270</td>\n",
              "      <td>46.011429</td>\n",
              "      <td>2.713016</td>\n",
              "      <td>6.772063</td>\n",
              "      <td>3.370159</td>\n",
              "      <td>6.566984</td>\n",
              "      <td>3.000000</td>\n",
              "      <td>35.859683</td>\n",
              "      <td>4.085714</td>\n",
              "      <td>2.302857</td>\n",
              "      <td>2.268571</td>\n",
              "      <td>5927.094222</td>\n",
              "      <td>386.371429</td>\n",
              "      <td>5540.722794</td>\n",
              "      <td>0.734094</td>\n",
              "      <td>3966.732698</td>\n",
              "      <td>70.316190</td>\n",
              "      <td>0.733827</td>\n",
              "      <td>0.061506</td>\n",
              "    </tr>\n",
              "    <tr>\n",
              "      <th>5</th>\n",
              "      <td>0.042603</td>\n",
              "      <td>56.549187</td>\n",
              "      <td>1.176607</td>\n",
              "      <td>6.561580</td>\n",
              "      <td>2.851278</td>\n",
              "      <td>6.871418</td>\n",
              "      <td>3.015492</td>\n",
              "      <td>45.062742</td>\n",
              "      <td>4.454686</td>\n",
              "      <td>2.266460</td>\n",
              "      <td>2.553060</td>\n",
              "      <td>4936.797599</td>\n",
              "      <td>1493.044926</td>\n",
              "      <td>3443.752672</td>\n",
              "      <td>0.715845</td>\n",
              "      <td>2926.916344</td>\n",
              "      <td>54.875290</td>\n",
              "      <td>0.672696</td>\n",
              "      <td>0.411819</td>\n",
              "    </tr>\n",
              "    <tr>\n",
              "      <th>6</th>\n",
              "      <td>0.098558</td>\n",
              "      <td>47.007212</td>\n",
              "      <td>2.574519</td>\n",
              "      <td>6.664663</td>\n",
              "      <td>4.164663</td>\n",
              "      <td>7.974760</td>\n",
              "      <td>3.000000</td>\n",
              "      <td>36.554087</td>\n",
              "      <td>4.069712</td>\n",
              "      <td>2.306490</td>\n",
              "      <td>2.538462</td>\n",
              "      <td>25618.027644</td>\n",
              "      <td>1208.750000</td>\n",
              "      <td>24409.277644</td>\n",
              "      <td>0.740609</td>\n",
              "      <td>3417.188702</td>\n",
              "      <td>58.618990</td>\n",
              "      <td>0.689018</td>\n",
              "      <td>0.051581</td>\n",
              "    </tr>\n",
              "    <tr>\n",
              "      <th>7</th>\n",
              "      <td>0.011494</td>\n",
              "      <td>46.000000</td>\n",
              "      <td>2.359195</td>\n",
              "      <td>6.385057</td>\n",
              "      <td>2.557471</td>\n",
              "      <td>6.454023</td>\n",
              "      <td>3.172414</td>\n",
              "      <td>35.741379</td>\n",
              "      <td>4.362069</td>\n",
              "      <td>2.166667</td>\n",
              "      <td>2.462644</td>\n",
              "      <td>8395.442529</td>\n",
              "      <td>1464.169540</td>\n",
              "      <td>6931.272989</td>\n",
              "      <td>1.330664</td>\n",
              "      <td>2078.977011</td>\n",
              "      <td>39.979885</td>\n",
              "      <td>1.290796</td>\n",
              "      <td>0.308658</td>\n",
              "    </tr>\n",
              "    <tr>\n",
              "      <th>8</th>\n",
              "      <td>0.059314</td>\n",
              "      <td>35.353105</td>\n",
              "      <td>1.628360</td>\n",
              "      <td>6.729379</td>\n",
              "      <td>3.215941</td>\n",
              "      <td>6.961075</td>\n",
              "      <td>3.000000</td>\n",
              "      <td>25.527340</td>\n",
              "      <td>4.432808</td>\n",
              "      <td>2.163114</td>\n",
              "      <td>2.715477</td>\n",
              "      <td>5029.189805</td>\n",
              "      <td>1442.392030</td>\n",
              "      <td>3586.797776</td>\n",
              "      <td>0.807338</td>\n",
              "      <td>2993.347544</td>\n",
              "      <td>56.759963</td>\n",
              "      <td>0.696462</td>\n",
              "      <td>0.402358</td>\n",
              "    </tr>\n",
              "    <tr>\n",
              "      <th>9</th>\n",
              "      <td>0.099631</td>\n",
              "      <td>44.854244</td>\n",
              "      <td>2.405904</td>\n",
              "      <td>7.184502</td>\n",
              "      <td>17.000000</td>\n",
              "      <td>6.702952</td>\n",
              "      <td>3.055351</td>\n",
              "      <td>34.904059</td>\n",
              "      <td>4.088561</td>\n",
              "      <td>2.328413</td>\n",
              "      <td>2.322878</td>\n",
              "      <td>6288.560517</td>\n",
              "      <td>1207.525830</td>\n",
              "      <td>5081.034686</td>\n",
              "      <td>0.756063</td>\n",
              "      <td>3862.086716</td>\n",
              "      <td>66.359779</td>\n",
              "      <td>0.719585</td>\n",
              "      <td>0.315546</td>\n",
              "    </tr>\n",
              "  </tbody>\n",
              "</table>\n",
              "</div>"
            ],
            "text/plain": [
              "       Attrition_Flag  Customer_Age  ...  Total_Ct_Chng_Q4_Q1  Avg_Utilization_Ratio\n",
              "Grupo                                ...                                            \n",
              "0            0.153383     45.615038  ...             0.698901               0.054093\n",
              "1            0.005369     45.535570  ...             0.732411               0.204162\n",
              "2            0.999161     46.960570  ...             0.522027               0.106256\n",
              "3            0.037137     46.210980  ...             0.749095               0.584009\n",
              "4            0.001270     46.011429  ...             0.733827               0.061506\n",
              "5            0.042603     56.549187  ...             0.672696               0.411819\n",
              "6            0.098558     47.007212  ...             0.689018               0.051581\n",
              "7            0.011494     46.000000  ...             1.290796               0.308658\n",
              "8            0.059314     35.353105  ...             0.696462               0.402358\n",
              "9            0.099631     44.854244  ...             0.719585               0.315546\n",
              "\n",
              "[10 rows x 19 columns]"
            ]
          },
          "metadata": {},
          "execution_count": 44
        }
      ]
    },
    {
      "cell_type": "code",
      "metadata": {
        "id": "mlSclkQdR1ED"
      },
      "source": [
        "#Preparando o modelo para persistência\n",
        "Persistencia = k_means.fit(X)"
      ],
      "execution_count": null,
      "outputs": []
    },
    {
      "cell_type": "code",
      "metadata": {
        "colab": {
          "base_uri": "https://localhost:8080/"
        },
        "id": "kiFoobpnR81j",
        "outputId": "3c46b517-37e2-46a2-85d5-a082f7dd6a0b"
      },
      "source": [
        "#Vamos persistir nosso modelo, salvando-o num arquivo.\n",
        "joblib.dump(Persistencia, 'Persistencia k_means')"
      ],
      "execution_count": null,
      "outputs": [
        {
          "output_type": "execute_result",
          "data": {
            "text/plain": [
              "['Persistencia k_means']"
            ]
          },
          "metadata": {},
          "execution_count": 126
        }
      ]
    },
    {
      "cell_type": "code",
      "metadata": {
        "colab": {
          "base_uri": "https://localhost:8080/"
        },
        "id": "sMNh0HKyR-f6",
        "outputId": "17c283b4-32be-4318-d85b-b6bb11196042"
      },
      "source": [
        "#Agora podemos carregar o arquivo do modelo e aplicar uma variável para receber seu valor\n",
        "clfk = load('Persistencia k_means')\n",
        "clfk.predict(X[0:10])"
      ],
      "execution_count": null,
      "outputs": [
        {
          "output_type": "execute_result",
          "data": {
            "text/plain": [
              "array([3, 3, 3, 3, 3, 3, 6, 6, 3, 3], dtype=int32)"
            ]
          },
          "metadata": {},
          "execution_count": 127
        }
      ]
    },
    {
      "cell_type": "markdown",
      "metadata": {
        "id": "143-YRXp9Xly"
      },
      "source": [
        "#Radar chart"
      ]
    },
    {
      "cell_type": "code",
      "metadata": {
        "id": "XSX09z_V9VzS"
      },
      "source": [
        "from sklearn.preprocessing import MinMaxScaler\n",
        "import plotly.graph_objects as go"
      ],
      "execution_count": null,
      "outputs": []
    },
    {
      "cell_type": "code",
      "metadata": {
        "id": "haF-86Yc9aLJ"
      },
      "source": [
        "df_grupos = df_kmeans.groupby(by='Grupo').mean()\n",
        "grupos_col = ['Attrition_Flag', 'Customer_Age' , 'Dependent_count' , 'Months_on_book' , 'Total_Relationship_Count' ,\n",
        "  'Months_Inactive_12_mon' , 'Contacts_Count_12_mon', 'Credit_Limit' , 'Total_Revolving_Bal' , 'Avg_Open_To_Buy' ,\n",
        "  'Total_Amt_Chng_Q4_Q1' , 'Total_Trans_Amt' , 'Total_Trans_Ct' , 'Total_Ct_Chng_Q4_Q1' , 'Avg_Utilization_Ratio' ]\n",
        "df_grupos = df_grupos[grupos_col]"
      ],
      "execution_count": null,
      "outputs": []
    },
    {
      "cell_type": "code",
      "metadata": {
        "colab": {
          "base_uri": "https://localhost:8080/",
          "height": 383
        },
        "id": "q67jTl8l94T6",
        "outputId": "ac4b34c9-0e68-4ef0-8ee5-bb6f07225a01"
      },
      "source": [
        "df_grupos = pd.DataFrame(MinMaxScaler().fit_transform(df_grupos), columns=grupos_col)\n",
        "df_grupos"
      ],
      "execution_count": null,
      "outputs": [
        {
          "output_type": "execute_result",
          "data": {
            "text/html": [
              "<div>\n",
              "<style scoped>\n",
              "    .dataframe tbody tr th:only-of-type {\n",
              "        vertical-align: middle;\n",
              "    }\n",
              "\n",
              "    .dataframe tbody tr th {\n",
              "        vertical-align: top;\n",
              "    }\n",
              "\n",
              "    .dataframe thead th {\n",
              "        text-align: right;\n",
              "    }\n",
              "</style>\n",
              "<table border=\"1\" class=\"dataframe\">\n",
              "  <thead>\n",
              "    <tr style=\"text-align: right;\">\n",
              "      <th></th>\n",
              "      <th>Attrition_Flag</th>\n",
              "      <th>Customer_Age</th>\n",
              "      <th>Dependent_count</th>\n",
              "      <th>Months_on_book</th>\n",
              "      <th>Total_Relationship_Count</th>\n",
              "      <th>Months_Inactive_12_mon</th>\n",
              "      <th>Contacts_Count_12_mon</th>\n",
              "      <th>Credit_Limit</th>\n",
              "      <th>Total_Revolving_Bal</th>\n",
              "      <th>Avg_Open_To_Buy</th>\n",
              "      <th>Total_Amt_Chng_Q4_Q1</th>\n",
              "      <th>Total_Trans_Amt</th>\n",
              "      <th>Total_Trans_Ct</th>\n",
              "      <th>Total_Ct_Chng_Q4_Q1</th>\n",
              "      <th>Avg_Utilization_Ratio</th>\n",
              "    </tr>\n",
              "  </thead>\n",
              "  <tbody>\n",
              "    <tr>\n",
              "      <th>0</th>\n",
              "      <td>0.152435</td>\n",
              "      <td>0.484143</td>\n",
              "      <td>0.713645</td>\n",
              "      <td>0.503910</td>\n",
              "      <td>0.500068</td>\n",
              "      <td>0.194081</td>\n",
              "      <td>0.343480</td>\n",
              "      <td>1.000000</td>\n",
              "      <td>0.638167</td>\n",
              "      <td>1.000000</td>\n",
              "      <td>0.138092</td>\n",
              "      <td>0.419510</td>\n",
              "      <td>0.546845</td>\n",
              "      <td>0.230074</td>\n",
              "      <td>0.004719</td>\n",
              "    </tr>\n",
              "    <tr>\n",
              "      <th>1</th>\n",
              "      <td>0.004108</td>\n",
              "      <td>0.480394</td>\n",
              "      <td>0.578785</td>\n",
              "      <td>0.497883</td>\n",
              "      <td>0.000000</td>\n",
              "      <td>0.069912</td>\n",
              "      <td>0.000000</td>\n",
              "      <td>0.331673</td>\n",
              "      <td>0.772714</td>\n",
              "      <td>0.337638</td>\n",
              "      <td>0.156174</td>\n",
              "      <td>1.000000</td>\n",
              "      <td>1.000000</td>\n",
              "      <td>0.273663</td>\n",
              "      <td>0.286577</td>\n",
              "    </tr>\n",
              "    <tr>\n",
              "      <th>2</th>\n",
              "      <td>1.000000</td>\n",
              "      <td>0.547623</td>\n",
              "      <td>0.685186</td>\n",
              "      <td>0.562153</td>\n",
              "      <td>0.456573</td>\n",
              "      <td>1.000000</td>\n",
              "      <td>1.000000</td>\n",
              "      <td>0.099052</td>\n",
              "      <td>0.029366</td>\n",
              "      <td>0.151033</td>\n",
              "      <td>0.000000</td>\n",
              "      <td>0.050791</td>\n",
              "      <td>0.038110</td>\n",
              "      <td>0.000000</td>\n",
              "      <td>0.102690</td>\n",
              "    </tr>\n",
              "    <tr>\n",
              "      <th>3</th>\n",
              "      <td>0.035943</td>\n",
              "      <td>0.512259</td>\n",
              "      <td>1.000000</td>\n",
              "      <td>0.527435</td>\n",
              "      <td>0.655217</td>\n",
              "      <td>0.400927</td>\n",
              "      <td>0.001965</td>\n",
              "      <td>0.000000</td>\n",
              "      <td>1.000000</td>\n",
              "      <td>0.000000</td>\n",
              "      <td>0.107098</td>\n",
              "      <td>0.195366</td>\n",
              "      <td>0.482740</td>\n",
              "      <td>0.295366</td>\n",
              "      <td>1.000000</td>\n",
              "    </tr>\n",
              "    <tr>\n",
              "      <th>4</th>\n",
              "      <td>0.000000</td>\n",
              "      <td>0.502844</td>\n",
              "      <td>0.821513</td>\n",
              "      <td>0.528903</td>\n",
              "      <td>0.836742</td>\n",
              "      <td>0.238792</td>\n",
              "      <td>0.134081</td>\n",
              "      <td>0.112486</td>\n",
              "      <td>0.000000</td>\n",
              "      <td>0.165829</td>\n",
              "      <td>0.097621</td>\n",
              "      <td>0.166496</td>\n",
              "      <td>0.454073</td>\n",
              "      <td>0.275505</td>\n",
              "      <td>0.018642</td>\n",
              "    </tr>\n",
              "    <tr>\n",
              "      <th>5</th>\n",
              "      <td>0.041420</td>\n",
              "      <td>1.000000</td>\n",
              "      <td>0.000000</td>\n",
              "      <td>1.000000</td>\n",
              "      <td>1.000000</td>\n",
              "      <td>0.176597</td>\n",
              "      <td>0.460399</td>\n",
              "      <td>0.069595</td>\n",
              "      <td>0.844653</td>\n",
              "      <td>0.076833</td>\n",
              "      <td>0.070017</td>\n",
              "      <td>0.074787</td>\n",
              "      <td>0.222954</td>\n",
              "      <td>0.195988</td>\n",
              "      <td>0.676594</td>\n",
              "    </tr>\n",
              "    <tr>\n",
              "      <th>6</th>\n",
              "      <td>0.097493</td>\n",
              "      <td>0.549824</td>\n",
              "      <td>0.747460</td>\n",
              "      <td>0.564449</td>\n",
              "      <td>0.829661</td>\n",
              "      <td>0.245001</td>\n",
              "      <td>0.443655</td>\n",
              "      <td>0.965338</td>\n",
              "      <td>0.627669</td>\n",
              "      <td>0.966619</td>\n",
              "      <td>0.107476</td>\n",
              "      <td>0.118028</td>\n",
              "      <td>0.278989</td>\n",
              "      <td>0.217219</td>\n",
              "      <td>0.000000</td>\n",
              "    </tr>\n",
              "    <tr>\n",
              "      <th>7</th>\n",
              "      <td>0.010246</td>\n",
              "      <td>0.502305</td>\n",
              "      <td>0.632327</td>\n",
              "      <td>0.522848</td>\n",
              "      <td>0.959020</td>\n",
              "      <td>0.006071</td>\n",
              "      <td>0.356689</td>\n",
              "      <td>0.219395</td>\n",
              "      <td>0.822614</td>\n",
              "      <td>0.224845</td>\n",
              "      <td>1.000000</td>\n",
              "      <td>0.000000</td>\n",
              "      <td>0.000000</td>\n",
              "      <td>1.000000</td>\n",
              "      <td>0.482839</td>\n",
              "    </tr>\n",
              "    <tr>\n",
              "      <th>8</th>\n",
              "      <td>0.058167</td>\n",
              "      <td>0.000000</td>\n",
              "      <td>0.241551</td>\n",
              "      <td>0.000000</td>\n",
              "      <td>0.990320</td>\n",
              "      <td>0.000000</td>\n",
              "      <td>0.646698</td>\n",
              "      <td>0.073597</td>\n",
              "      <td>0.805993</td>\n",
              "      <td>0.082904</td>\n",
              "      <td>0.208411</td>\n",
              "      <td>0.080646</td>\n",
              "      <td>0.251164</td>\n",
              "      <td>0.226902</td>\n",
              "      <td>0.658825</td>\n",
              "    </tr>\n",
              "    <tr>\n",
              "      <th>9</th>\n",
              "      <td>0.098569</td>\n",
              "      <td>0.448250</td>\n",
              "      <td>0.657302</td>\n",
              "      <td>0.479986</td>\n",
              "      <td>0.838002</td>\n",
              "      <td>0.282462</td>\n",
              "      <td>0.196373</td>\n",
              "      <td>0.128142</td>\n",
              "      <td>0.626735</td>\n",
              "      <td>0.146320</td>\n",
              "      <td>0.130851</td>\n",
              "      <td>0.157267</td>\n",
              "      <td>0.394853</td>\n",
              "      <td>0.256980</td>\n",
              "      <td>0.495776</td>\n",
              "    </tr>\n",
              "  </tbody>\n",
              "</table>\n",
              "</div>"
            ],
            "text/plain": [
              "   Attrition_Flag  Customer_Age  ...  Total_Ct_Chng_Q4_Q1  Avg_Utilization_Ratio\n",
              "0        0.152435      0.484143  ...             0.230074               0.004719\n",
              "1        0.004108      0.480394  ...             0.273663               0.286577\n",
              "2        1.000000      0.547623  ...             0.000000               0.102690\n",
              "3        0.035943      0.512259  ...             0.295366               1.000000\n",
              "4        0.000000      0.502844  ...             0.275505               0.018642\n",
              "5        0.041420      1.000000  ...             0.195988               0.676594\n",
              "6        0.097493      0.549824  ...             0.217219               0.000000\n",
              "7        0.010246      0.502305  ...             1.000000               0.482839\n",
              "8        0.058167      0.000000  ...             0.226902               0.658825\n",
              "9        0.098569      0.448250  ...             0.256980               0.495776\n",
              "\n",
              "[10 rows x 15 columns]"
            ]
          },
          "metadata": {},
          "execution_count": 47
        }
      ]
    },
    {
      "cell_type": "code",
      "metadata": {
        "colab": {
          "base_uri": "https://localhost:8080/",
          "height": 542
        },
        "id": "dFy1V7BH95jK",
        "outputId": "daf912ed-6249-46b3-f730-3aa80fad08f7"
      },
      "source": [
        "grupos_col = [*grupos_col, grupos_col[0]]\n",
        "grp = {}\n",
        "\n",
        "for idx, row in df_grupos.iterrows():\n",
        "  grp[idx] = [x for x in row]\n",
        "  grp[idx] = [*grp[idx], grp[idx][0]]\n",
        "\n",
        "fig = go.Figure(\n",
        "    data=[go.Scatterpolar(r=grp[x], theta=grupos_col, name= 'Grupo ' + str(x)) for x in grp],\n",
        "    layout=go.Layout(\n",
        "        polar={'radialaxis': {'visible': True, 'range': [0, 1]}},\n",
        "        showlegend=True\n",
        "    )\n",
        ")\n",
        "\n",
        "fig.show()"
      ],
      "execution_count": null,
      "outputs": [
        {
          "output_type": "display_data",
          "data": {
            "text/html": [
              "<html>\n",
              "<head><meta charset=\"utf-8\" /></head>\n",
              "<body>\n",
              "    <div>\n",
              "            <script src=\"https://cdnjs.cloudflare.com/ajax/libs/mathjax/2.7.5/MathJax.js?config=TeX-AMS-MML_SVG\"></script><script type=\"text/javascript\">if (window.MathJax) {MathJax.Hub.Config({SVG: {font: \"STIX-Web\"}});}</script>\n",
              "                <script type=\"text/javascript\">window.PlotlyConfig = {MathJaxConfig: 'local'};</script>\n",
              "        <script src=\"https://cdn.plot.ly/plotly-latest.min.js\"></script>    \n",
              "            <div id=\"c3b95537-56d2-4bca-8820-05664000c31a\" class=\"plotly-graph-div\" style=\"height:525px; width:100%;\"></div>\n",
              "            <script type=\"text/javascript\">\n",
              "                \n",
              "                    window.PLOTLYENV=window.PLOTLYENV || {};\n",
              "                    \n",
              "                if (document.getElementById(\"c3b95537-56d2-4bca-8820-05664000c31a\")) {\n",
              "                    Plotly.newPlot(\n",
              "                        'c3b95537-56d2-4bca-8820-05664000c31a',\n",
              "                        [{\"name\": \"Grupo 0\", \"r\": [0.15243506748446195, 0.48414291336492044, 0.713644848595835, 0.5039102075614135, 0.5000678961159332, 0.19408091678265382, 0.34347994698061557, 1.0, 0.6381673538781526, 1.0, 0.13809161787122415, 0.419510199254485, 0.5468454050650149, 0.2300741523349349, 0.004719326006339716, 0.15243506748446195], \"theta\": [\"Attrition_Flag\", \"Customer_Age\", \"Dependent_count\", \"Months_on_book\", \"Total_Relationship_Count\", \"Months_Inactive_12_mon\", \"Contacts_Count_12_mon\", \"Credit_Limit\", \"Total_Revolving_Bal\", \"Avg_Open_To_Buy\", \"Total_Amt_Chng_Q4_Q1\", \"Total_Trans_Amt\", \"Total_Trans_Ct\", \"Total_Ct_Chng_Q4_Q1\", \"Avg_Utilization_Ratio\", \"Attrition_Flag\"], \"type\": \"scatterpolar\"}, {\"name\": \"Grupo 1\", \"r\": [0.004107948955958581, 0.4803937712181652, 0.5787846919618141, 0.4978833391776125, 0.0, 0.06991162199937229, 0.0, 0.33167289143627243, 0.77271362895505, 0.33763808956473434, 0.15617400424194927, 1.0, 1.0, 0.27366329374003606, 0.28657716979701586, 0.004107948955958581], \"theta\": [\"Attrition_Flag\", \"Customer_Age\", \"Dependent_count\", \"Months_on_book\", \"Total_Relationship_Count\", \"Months_Inactive_12_mon\", \"Contacts_Count_12_mon\", \"Credit_Limit\", \"Total_Revolving_Bal\", \"Avg_Open_To_Buy\", \"Total_Amt_Chng_Q4_Q1\", \"Total_Trans_Amt\", \"Total_Trans_Ct\", \"Total_Ct_Chng_Q4_Q1\", \"Avg_Utilization_Ratio\", \"Attrition_Flag\"], \"type\": \"scatterpolar\"}, {\"name\": \"Grupo 2\", \"r\": [1.0, 0.5476231772628699, 0.6851858533155873, 0.5621531667044584, 0.4565725188732629, 1.0, 1.0, 0.09905245883355898, 0.029365537570285816, 0.1510325529980393, 0.0, 0.05079149956082929, 0.03811024410312591, 0.0, 0.10269046685970284, 1.0], \"theta\": [\"Attrition_Flag\", \"Customer_Age\", \"Dependent_count\", \"Months_on_book\", \"Total_Relationship_Count\", \"Months_Inactive_12_mon\", \"Contacts_Count_12_mon\", \"Credit_Limit\", \"Total_Revolving_Bal\", \"Avg_Open_To_Buy\", \"Total_Amt_Chng_Q4_Q1\", \"Total_Trans_Amt\", \"Total_Trans_Ct\", \"Total_Ct_Chng_Q4_Q1\", \"Avg_Utilization_Ratio\", \"Attrition_Flag\"], \"type\": \"scatterpolar\"}, {\"name\": \"Grupo 3\", \"r\": [0.035942659576165575, 0.5122585790483547, 1.0, 0.5274353188761802, 0.6552169461863474, 0.40092659187498025, 0.001964747246991916, 0.0, 1.0, 0.0, 0.10709802749188446, 0.195366446246117, 0.482739821691788, 0.29536620139917136, 1.0, 0.035942659576165575], \"theta\": [\"Attrition_Flag\", \"Customer_Age\", \"Dependent_count\", \"Months_on_book\", \"Total_Relationship_Count\", \"Months_Inactive_12_mon\", \"Contacts_Count_12_mon\", \"Credit_Limit\", \"Total_Revolving_Bal\", \"Avg_Open_To_Buy\", \"Total_Amt_Chng_Q4_Q1\", \"Total_Trans_Amt\", \"Total_Trans_Ct\", \"Total_Ct_Chng_Q4_Q1\", \"Avg_Utilization_Ratio\", \"Attrition_Flag\"], \"type\": \"scatterpolar\"}, {\"name\": \"Grupo 4\", \"r\": [0.0, 0.5028440572070352, 0.8215134271279624, 0.5289034976911373, 0.8367420545650391, 0.23879221034586662, 0.13408116133289338, 0.11248647818552968, 0.0, 0.16582917740384362, 0.09762066214293874, 0.16649628457944737, 0.4540725706904747, 0.2755051060005027, 0.01864194093358726, 0.0], \"theta\": [\"Attrition_Flag\", \"Customer_Age\", \"Dependent_count\", \"Months_on_book\", \"Total_Relationship_Count\", \"Months_Inactive_12_mon\", \"Contacts_Count_12_mon\", \"Credit_Limit\", \"Total_Revolving_Bal\", \"Avg_Open_To_Buy\", \"Total_Amt_Chng_Q4_Q1\", \"Total_Trans_Amt\", \"Total_Trans_Ct\", \"Total_Ct_Chng_Q4_Q1\", \"Avg_Utilization_Ratio\", \"Attrition_Flag\"], \"type\": \"scatterpolar\"}, {\"name\": \"Grupo 5\", \"r\": [0.04142013778561191, 1.0, 0.0, 1.0, 1.0, 0.17659718757606546, 0.46039943733158273, 0.06959486981807039, 0.8446529353453702, 0.07683283643848617, 0.0700171565496781, 0.07478655706132703, 0.2229538150715702, 0.19598798602183254, 0.6765943870313715, 0.04142013778561191], \"theta\": [\"Attrition_Flag\", \"Customer_Age\", \"Dependent_count\", \"Months_on_book\", \"Total_Relationship_Count\", \"Months_Inactive_12_mon\", \"Contacts_Count_12_mon\", \"Credit_Limit\", \"Total_Revolving_Bal\", \"Avg_Open_To_Buy\", \"Total_Amt_Chng_Q4_Q1\", \"Total_Trans_Amt\", \"Total_Trans_Ct\", \"Total_Ct_Chng_Q4_Q1\", \"Avg_Utilization_Ratio\", \"Attrition_Flag\"], \"type\": \"scatterpolar\"}, {\"name\": \"Grupo 6\", \"r\": [0.09749344203444973, 0.549823634346025, 0.74745965534997, 0.5644494261160273, 0.8296613665735609, 0.24500067093942102, 0.44365488245395834, 0.9653378206189664, 0.6276688433188797, 0.9666190045672967, 0.1074759518013404, 0.11802760070127999, 0.2789893612438512, 0.2172188975773931, 0.0, 0.09749344203444973], \"theta\": [\"Attrition_Flag\", \"Customer_Age\", \"Dependent_count\", \"Months_on_book\", \"Total_Relationship_Count\", \"Months_Inactive_12_mon\", \"Contacts_Count_12_mon\", \"Credit_Limit\", \"Total_Revolving_Bal\", \"Avg_Open_To_Buy\", \"Total_Amt_Chng_Q4_Q1\", \"Total_Trans_Amt\", \"Total_Trans_Ct\", \"Total_Ct_Chng_Q4_Q1\", \"Avg_Utilization_Ratio\", \"Attrition_Flag\"], \"type\": \"scatterpolar\"}, {\"name\": \"Grupo 7\", \"r\": [0.010246018073068533, 0.5023048740006617, 0.6323265994632253, 0.5228476596921254, 0.9590198879747781, 0.0060707838875329045, 0.3566890534717242, 0.2193952834557946, 0.8226142041867326, 0.22484474372665553, 1.0, 0.0, 0.0, 1.0, 0.48283940250177615, 0.010246018073068533], \"theta\": [\"Attrition_Flag\", \"Customer_Age\", \"Dependent_count\", \"Months_on_book\", \"Total_Relationship_Count\", \"Months_Inactive_12_mon\", \"Contacts_Count_12_mon\", \"Credit_Limit\", \"Total_Revolving_Bal\", \"Avg_Open_To_Buy\", \"Total_Amt_Chng_Q4_Q1\", \"Total_Trans_Amt\", \"Total_Trans_Ct\", \"Total_Ct_Chng_Q4_Q1\", \"Avg_Utilization_Ratio\", \"Attrition_Flag\"], \"type\": \"scatterpolar\"}, {\"name\": \"Grupo 8\", \"r\": [0.058166999200515115, 0.0, 0.24155071198177402, 0.0, 0.9903196471061982, 0.0, 0.6466983585434294, 0.07359654996969092, 0.8059928264581686, 0.08290373399859861, 0.2084109625176791, 0.08064565634727605, 0.2511635148110447, 0.22690247629515337, 0.6588248567268427, 0.058166999200515115], \"theta\": [\"Attrition_Flag\", \"Customer_Age\", \"Dependent_count\", \"Months_on_book\", \"Total_Relationship_Count\", \"Months_Inactive_12_mon\", \"Contacts_Count_12_mon\", \"Credit_Limit\", \"Total_Revolving_Bal\", \"Avg_Open_To_Buy\", \"Total_Amt_Chng_Q4_Q1\", \"Total_Trans_Amt\", \"Total_Trans_Ct\", \"Total_Ct_Chng_Q4_Q1\", \"Avg_Utilization_Ratio\", \"Attrition_Flag\"], \"type\": \"scatterpolar\"}, {\"name\": \"Grupo 9\", \"r\": [0.09856901416822025, 0.44824976795578353, 0.6573015891113462, 0.4799859733686964, 0.8380015811557978, 0.282462383318411, 0.1963730260859191, 0.12814226289629252, 0.6267345130329357, 0.14631981047499892, 0.13085090011046163, 0.15726671773945045, 0.3948531605631981, 0.25697965377207377, 0.4957764971947506, 0.09856901416822025], \"theta\": [\"Attrition_Flag\", \"Customer_Age\", \"Dependent_count\", \"Months_on_book\", \"Total_Relationship_Count\", \"Months_Inactive_12_mon\", \"Contacts_Count_12_mon\", \"Credit_Limit\", \"Total_Revolving_Bal\", \"Avg_Open_To_Buy\", \"Total_Amt_Chng_Q4_Q1\", \"Total_Trans_Amt\", \"Total_Trans_Ct\", \"Total_Ct_Chng_Q4_Q1\", \"Avg_Utilization_Ratio\", \"Attrition_Flag\"], \"type\": \"scatterpolar\"}],\n",
              "                        {\"polar\": {\"radialaxis\": {\"range\": [0, 1], \"visible\": true}}, \"showlegend\": true, \"template\": {\"data\": {\"bar\": [{\"error_x\": {\"color\": \"#2a3f5f\"}, \"error_y\": {\"color\": \"#2a3f5f\"}, \"marker\": {\"line\": {\"color\": \"#E5ECF6\", \"width\": 0.5}}, \"type\": \"bar\"}], \"barpolar\": [{\"marker\": {\"line\": {\"color\": \"#E5ECF6\", \"width\": 0.5}}, \"type\": \"barpolar\"}], \"carpet\": [{\"aaxis\": {\"endlinecolor\": \"#2a3f5f\", \"gridcolor\": \"white\", \"linecolor\": \"white\", \"minorgridcolor\": \"white\", \"startlinecolor\": \"#2a3f5f\"}, \"baxis\": {\"endlinecolor\": \"#2a3f5f\", \"gridcolor\": \"white\", \"linecolor\": \"white\", \"minorgridcolor\": \"white\", \"startlinecolor\": \"#2a3f5f\"}, \"type\": \"carpet\"}], \"choropleth\": [{\"colorbar\": {\"outlinewidth\": 0, \"ticks\": \"\"}, \"type\": \"choropleth\"}], \"contour\": [{\"colorbar\": {\"outlinewidth\": 0, \"ticks\": \"\"}, \"colorscale\": [[0.0, \"#0d0887\"], [0.1111111111111111, \"#46039f\"], [0.2222222222222222, \"#7201a8\"], [0.3333333333333333, \"#9c179e\"], [0.4444444444444444, \"#bd3786\"], [0.5555555555555556, \"#d8576b\"], [0.6666666666666666, \"#ed7953\"], [0.7777777777777778, \"#fb9f3a\"], [0.8888888888888888, \"#fdca26\"], [1.0, \"#f0f921\"]], \"type\": \"contour\"}], \"contourcarpet\": [{\"colorbar\": {\"outlinewidth\": 0, \"ticks\": \"\"}, \"type\": \"contourcarpet\"}], \"heatmap\": [{\"colorbar\": {\"outlinewidth\": 0, \"ticks\": \"\"}, \"colorscale\": [[0.0, \"#0d0887\"], [0.1111111111111111, \"#46039f\"], [0.2222222222222222, \"#7201a8\"], [0.3333333333333333, \"#9c179e\"], [0.4444444444444444, \"#bd3786\"], [0.5555555555555556, \"#d8576b\"], [0.6666666666666666, \"#ed7953\"], [0.7777777777777778, \"#fb9f3a\"], [0.8888888888888888, \"#fdca26\"], [1.0, \"#f0f921\"]], \"type\": \"heatmap\"}], \"heatmapgl\": [{\"colorbar\": {\"outlinewidth\": 0, \"ticks\": \"\"}, \"colorscale\": [[0.0, \"#0d0887\"], [0.1111111111111111, \"#46039f\"], [0.2222222222222222, \"#7201a8\"], [0.3333333333333333, \"#9c179e\"], [0.4444444444444444, \"#bd3786\"], [0.5555555555555556, \"#d8576b\"], [0.6666666666666666, \"#ed7953\"], [0.7777777777777778, \"#fb9f3a\"], [0.8888888888888888, \"#fdca26\"], [1.0, \"#f0f921\"]], \"type\": \"heatmapgl\"}], \"histogram\": [{\"marker\": {\"colorbar\": {\"outlinewidth\": 0, \"ticks\": \"\"}}, \"type\": \"histogram\"}], \"histogram2d\": [{\"colorbar\": {\"outlinewidth\": 0, \"ticks\": \"\"}, \"colorscale\": [[0.0, \"#0d0887\"], [0.1111111111111111, \"#46039f\"], [0.2222222222222222, \"#7201a8\"], [0.3333333333333333, \"#9c179e\"], [0.4444444444444444, \"#bd3786\"], [0.5555555555555556, \"#d8576b\"], [0.6666666666666666, \"#ed7953\"], [0.7777777777777778, \"#fb9f3a\"], [0.8888888888888888, \"#fdca26\"], [1.0, \"#f0f921\"]], \"type\": \"histogram2d\"}], \"histogram2dcontour\": [{\"colorbar\": {\"outlinewidth\": 0, \"ticks\": \"\"}, \"colorscale\": [[0.0, \"#0d0887\"], [0.1111111111111111, \"#46039f\"], [0.2222222222222222, \"#7201a8\"], [0.3333333333333333, \"#9c179e\"], [0.4444444444444444, \"#bd3786\"], [0.5555555555555556, \"#d8576b\"], [0.6666666666666666, \"#ed7953\"], [0.7777777777777778, \"#fb9f3a\"], [0.8888888888888888, \"#fdca26\"], [1.0, \"#f0f921\"]], \"type\": \"histogram2dcontour\"}], \"mesh3d\": [{\"colorbar\": {\"outlinewidth\": 0, \"ticks\": \"\"}, \"type\": \"mesh3d\"}], \"parcoords\": [{\"line\": {\"colorbar\": {\"outlinewidth\": 0, \"ticks\": \"\"}}, \"type\": \"parcoords\"}], \"pie\": [{\"automargin\": true, \"type\": \"pie\"}], \"scatter\": [{\"marker\": {\"colorbar\": {\"outlinewidth\": 0, \"ticks\": \"\"}}, \"type\": \"scatter\"}], \"scatter3d\": [{\"line\": {\"colorbar\": {\"outlinewidth\": 0, \"ticks\": \"\"}}, \"marker\": {\"colorbar\": {\"outlinewidth\": 0, \"ticks\": \"\"}}, \"type\": \"scatter3d\"}], \"scattercarpet\": [{\"marker\": {\"colorbar\": {\"outlinewidth\": 0, \"ticks\": \"\"}}, \"type\": \"scattercarpet\"}], \"scattergeo\": [{\"marker\": {\"colorbar\": {\"outlinewidth\": 0, \"ticks\": \"\"}}, \"type\": \"scattergeo\"}], \"scattergl\": [{\"marker\": {\"colorbar\": {\"outlinewidth\": 0, \"ticks\": \"\"}}, \"type\": \"scattergl\"}], \"scattermapbox\": [{\"marker\": {\"colorbar\": {\"outlinewidth\": 0, \"ticks\": \"\"}}, \"type\": \"scattermapbox\"}], \"scatterpolar\": [{\"marker\": {\"colorbar\": {\"outlinewidth\": 0, \"ticks\": \"\"}}, \"type\": \"scatterpolar\"}], \"scatterpolargl\": [{\"marker\": {\"colorbar\": {\"outlinewidth\": 0, \"ticks\": \"\"}}, \"type\": \"scatterpolargl\"}], \"scatterternary\": [{\"marker\": {\"colorbar\": {\"outlinewidth\": 0, \"ticks\": \"\"}}, \"type\": \"scatterternary\"}], \"surface\": [{\"colorbar\": {\"outlinewidth\": 0, \"ticks\": \"\"}, \"colorscale\": [[0.0, \"#0d0887\"], [0.1111111111111111, \"#46039f\"], [0.2222222222222222, \"#7201a8\"], [0.3333333333333333, \"#9c179e\"], [0.4444444444444444, \"#bd3786\"], [0.5555555555555556, \"#d8576b\"], [0.6666666666666666, \"#ed7953\"], [0.7777777777777778, \"#fb9f3a\"], [0.8888888888888888, \"#fdca26\"], [1.0, \"#f0f921\"]], \"type\": \"surface\"}], \"table\": [{\"cells\": {\"fill\": {\"color\": \"#EBF0F8\"}, \"line\": {\"color\": \"white\"}}, \"header\": {\"fill\": {\"color\": \"#C8D4E3\"}, \"line\": {\"color\": \"white\"}}, \"type\": \"table\"}]}, \"layout\": {\"annotationdefaults\": {\"arrowcolor\": \"#2a3f5f\", \"arrowhead\": 0, \"arrowwidth\": 1}, \"coloraxis\": {\"colorbar\": {\"outlinewidth\": 0, \"ticks\": \"\"}}, \"colorscale\": {\"diverging\": [[0, \"#8e0152\"], [0.1, \"#c51b7d\"], [0.2, \"#de77ae\"], [0.3, \"#f1b6da\"], [0.4, \"#fde0ef\"], [0.5, \"#f7f7f7\"], [0.6, \"#e6f5d0\"], [0.7, \"#b8e186\"], [0.8, \"#7fbc41\"], [0.9, \"#4d9221\"], [1, \"#276419\"]], \"sequential\": [[0.0, \"#0d0887\"], [0.1111111111111111, \"#46039f\"], [0.2222222222222222, \"#7201a8\"], [0.3333333333333333, \"#9c179e\"], [0.4444444444444444, \"#bd3786\"], [0.5555555555555556, \"#d8576b\"], [0.6666666666666666, \"#ed7953\"], [0.7777777777777778, \"#fb9f3a\"], [0.8888888888888888, \"#fdca26\"], [1.0, \"#f0f921\"]], \"sequentialminus\": [[0.0, \"#0d0887\"], [0.1111111111111111, \"#46039f\"], [0.2222222222222222, \"#7201a8\"], [0.3333333333333333, \"#9c179e\"], [0.4444444444444444, \"#bd3786\"], [0.5555555555555556, \"#d8576b\"], [0.6666666666666666, \"#ed7953\"], [0.7777777777777778, \"#fb9f3a\"], [0.8888888888888888, \"#fdca26\"], [1.0, \"#f0f921\"]]}, \"colorway\": [\"#636efa\", \"#EF553B\", \"#00cc96\", \"#ab63fa\", \"#FFA15A\", \"#19d3f3\", \"#FF6692\", \"#B6E880\", \"#FF97FF\", \"#FECB52\"], \"font\": {\"color\": \"#2a3f5f\"}, \"geo\": {\"bgcolor\": \"white\", \"lakecolor\": \"white\", \"landcolor\": \"#E5ECF6\", \"showlakes\": true, \"showland\": true, \"subunitcolor\": \"white\"}, \"hoverlabel\": {\"align\": \"left\"}, \"hovermode\": \"closest\", \"mapbox\": {\"style\": \"light\"}, \"paper_bgcolor\": \"white\", \"plot_bgcolor\": \"#E5ECF6\", \"polar\": {\"angularaxis\": {\"gridcolor\": \"white\", \"linecolor\": \"white\", \"ticks\": \"\"}, \"bgcolor\": \"#E5ECF6\", \"radialaxis\": {\"gridcolor\": \"white\", \"linecolor\": \"white\", \"ticks\": \"\"}}, \"scene\": {\"xaxis\": {\"backgroundcolor\": \"#E5ECF6\", \"gridcolor\": \"white\", \"gridwidth\": 2, \"linecolor\": \"white\", \"showbackground\": true, \"ticks\": \"\", \"zerolinecolor\": \"white\"}, \"yaxis\": {\"backgroundcolor\": \"#E5ECF6\", \"gridcolor\": \"white\", \"gridwidth\": 2, \"linecolor\": \"white\", \"showbackground\": true, \"ticks\": \"\", \"zerolinecolor\": \"white\"}, \"zaxis\": {\"backgroundcolor\": \"#E5ECF6\", \"gridcolor\": \"white\", \"gridwidth\": 2, \"linecolor\": \"white\", \"showbackground\": true, \"ticks\": \"\", \"zerolinecolor\": \"white\"}}, \"shapedefaults\": {\"line\": {\"color\": \"#2a3f5f\"}}, \"ternary\": {\"aaxis\": {\"gridcolor\": \"white\", \"linecolor\": \"white\", \"ticks\": \"\"}, \"baxis\": {\"gridcolor\": \"white\", \"linecolor\": \"white\", \"ticks\": \"\"}, \"bgcolor\": \"#E5ECF6\", \"caxis\": {\"gridcolor\": \"white\", \"linecolor\": \"white\", \"ticks\": \"\"}}, \"title\": {\"x\": 0.05}, \"xaxis\": {\"automargin\": true, \"gridcolor\": \"white\", \"linecolor\": \"white\", \"ticks\": \"\", \"title\": {\"standoff\": 15}, \"zerolinecolor\": \"white\", \"zerolinewidth\": 2}, \"yaxis\": {\"automargin\": true, \"gridcolor\": \"white\", \"linecolor\": \"white\", \"ticks\": \"\", \"title\": {\"standoff\": 15}, \"zerolinecolor\": \"white\", \"zerolinewidth\": 2}}}},\n",
              "                        {\"responsive\": true}\n",
              "                    ).then(function(){\n",
              "                            \n",
              "var gd = document.getElementById('c3b95537-56d2-4bca-8820-05664000c31a');\n",
              "var x = new MutationObserver(function (mutations, observer) {{\n",
              "        var display = window.getComputedStyle(gd).display;\n",
              "        if (!display || display === 'none') {{\n",
              "            console.log([gd, 'removed!']);\n",
              "            Plotly.purge(gd);\n",
              "            observer.disconnect();\n",
              "        }}\n",
              "}});\n",
              "\n",
              "// Listen for the removal of the full notebook cells\n",
              "var notebookContainer = gd.closest('#notebook-container');\n",
              "if (notebookContainer) {{\n",
              "    x.observe(notebookContainer, {childList: true});\n",
              "}}\n",
              "\n",
              "// Listen for the clearing of the current output cell\n",
              "var outputEl = gd.closest('.output');\n",
              "if (outputEl) {{\n",
              "    x.observe(outputEl, {childList: true});\n",
              "}}\n",
              "\n",
              "                        })\n",
              "                };\n",
              "                \n",
              "            </script>\n",
              "        </div>\n",
              "</body>\n",
              "</html>"
            ]
          },
          "metadata": {}
        }
      ]
    }
  ]
}